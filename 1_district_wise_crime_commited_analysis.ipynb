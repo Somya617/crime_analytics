{
 "cells": [
  {
   "cell_type": "markdown",
   "metadata": {},
   "source": [
    "# Goal\n",
    "This ipynb file is supposed to have deep analysis of district wise crimes commited in order to predict the crime hotspots of India in the future and also its dependency on socioeconomic factors."
   ]
  },
  {
   "cell_type": "markdown",
   "metadata": {},
   "source": [
    "### Problem Statement\n",
    "Prediction of crime, prognosis and patrol route map forecasting:\n",
    "\n",
    "\n",
    "Predict crime hotspots by analysing historical crime data, socio-economic factors, and\n",
    "environmental variables. Also generate dynamic patrol routes by considering predicted crime\n",
    "hotspots, traffic conditons, and priority areas."
   ]
  },
  {
   "cell_type": "markdown",
   "metadata": {},
   "source": [
    "#### Data Loading and Joining\n",
    "I will try to join datasets for easier analysis"
   ]
  },
  {
   "cell_type": "code",
   "execution_count": 1,
   "metadata": {},
   "outputs": [],
   "source": [
    "import pandas as pd"
   ]
  },
  {
   "cell_type": "markdown",
   "metadata": {},
   "source": [
    "I need to analyse weather the district_wise_crimes_committed is aggregrate of crimes against SC, ST and children so we will import these 4 datasets for 2001_2012 and see if it is . Otherwise we will assume that the first one is crime against general and OBC population"
   ]
  },
  {
   "cell_type": "code",
   "execution_count": 2,
   "metadata": {},
   "outputs": [],
   "source": [
    "dis_w_cr_co_1_12_IPC = pd.read_csv(r\"AggregrateData/01_District_wise_crimes_committed_IPC_2001_2012.csv\")\n",
    "dis_w_cr_co_13_IPC = pd.read_csv(r\"D:\\Data Science\\Intern\\Code\\AggregrateData\\01_District_wise_crimes_committed_IPC_2013.csv\")\n",
    "dis_w_cr_co_14_IPC = pd.read_csv(r\"D:\\Data Science\\Intern\\Code\\AggregrateData\\01_District_wise_crimes_committed_IPC_2014.csv\")\n",
    "dis_w_cr_co_1_12_SC = pd.read_csv(r\"AggregrateData/02_01_District_wise_crimes_committed_against_SC_2001_2012.csv\")\n",
    "dis_w_cr_co_13_SC = pd.read_csv(r\"D:\\Data Science\\Intern\\Code\\AggregrateData\\02_01_District_wise_crimes_committed_against_SC_2013.csv\")\n",
    "dis_w_cr_co_14_SC = pd.read_csv(r\"D:\\Data Science\\Intern\\Code\\AggregrateData\\02_01_District_wise_crimes_committed_against_SC_2014.csv\")\n",
    "dis_w_cr_co_1_12_ST = pd.read_csv(r\"AggregrateData/02_District_wise_crimes_committed_against_ST_2001_2012.csv\")\n",
    "dis_w_cr_co_13_ST = pd.read_csv(r\"D:\\Data Science\\Intern\\Code\\AggregrateData\\02_District_wise_crimes_committed_against_ST_2013.csv\")\n",
    "dis_w_cr_co_14_ST = pd.read_csv(r\"D:\\Data Science\\Intern\\Code\\AggregrateData\\02_District_wise_crimes_committed_against_ST_2014.csv\")\n",
    "dis_w_cr_co_1_12_children = pd.read_csv(r\"AggregrateData/03_District_wise_crimes_committed_against_children_2001_2012.csv\")\n",
    "dis_w_cr_co_13_children = pd.read_csv(r\"D:\\Data Science\\Intern\\Code\\AggregrateData\\03_District_wise_crimes_committed_against_children_2013.csv\")"
   ]
  },
  {
   "cell_type": "markdown",
   "metadata": {},
   "source": [
    "I will take the murder count of year 2001 district Adilabad and state Andhra Pradesh to come to my conclusion for the above problem"
   ]
  },
  {
   "cell_type": "code",
   "execution_count": 3,
   "metadata": {},
   "outputs": [
    {
     "name": "stdout",
     "output_type": "stream",
     "text": [
      "It is count of crimes against general population\n"
     ]
    }
   ],
   "source": [
    "if(dis_w_cr_co_1_12_IPC.at[0,\"MURDER\"] == dis_w_cr_co_1_12_SC.at[0,\"Murder\"] + dis_w_cr_co_1_12_ST.at[0,\"Murder\"] + dis_w_cr_co_1_12_children.at[0,\"Murder\"]):\n",
    "    print(\"It is aggregrate of 3\")\n",
    "else:\n",
    "    print(\"It is count of crimes against general population\")    "
   ]
  },
  {
   "cell_type": "markdown",
   "metadata": {},
   "source": [
    "Since the datasets have different number of columns we will start by aggregrating based crime type"
   ]
  },
  {
   "cell_type": "code",
   "execution_count": 4,
   "metadata": {},
   "outputs": [],
   "source": [
    "# Following are the common columns that we need to change\n",
    "column_mapping = {\n",
    "    'STATE/UT': 'States/UTs',\n",
    "    'DISTRICT': 'District',\n",
    "    'YEAR': 'Year',\n",
    "    'MURDER': 'Murder',\n",
    "    'ATTEMPT TO MURDER': 'Attempt to commit Murder',\n",
    "    'CULPABLE HOMICIDE NOT AMOUNTING TO MURDER': 'Culpable Homicide not amounting to Murder',\n",
    "    'RAPE': 'Rape',\n",
    "    'CUSTODIAL RAPE': 'Custodial Rape',\n",
    "    'OTHER RAPE': 'Rape other than Custodial',\n",
    "    'KIDNAPPING & ABDUCTION': 'Kidnapping & Abduction_Total',\n",
    "    'DACOITY': 'Dacoity',\n",
    "    'PREPARATION AND ASSEMBLY FOR DACOITY': 'Making Preparation and Assembly for committing Dacoity',\n",
    "    'ROBBERY': 'Robbery',\n",
    "    'BURGLARY': 'Criminal Trespass/Burglary',\n",
    "    'THEFT': 'Theft',\n",
    "    'AUTO THEFT': 'Auto Theft',\n",
    "    'OTHER THEFT': 'Other Thefts',\n",
    "    'RIOTS': 'Unlawful Assembly',\n",
    "    'CRIMINAL BREACH OF TRUST': 'Criminal Breach of Trust',\n",
    "    'CHEATING': 'Cheating',\n",
    "    'COUNTERFIETING': 'Forgery',\n",
    "    'ARSON': 'Arson',\n",
    "    'HURT/GREVIOUS HURT': 'Grievous Hurt',\n",
    "    'DOWRY DEATHS': 'Dowry Deaths',\n",
    "    'ASSAULT ON WOMEN WITH INTENT TO OUTRAGE HER MODESTY': 'Assault on Women with intent to outrage her Modesty',\n",
    "    'INSULT TO MODESTY OF WOMEN': 'Insult to the Modesty of Women',\n",
    "    'CRUELTY BY HUSBAND OR HIS RELATIVES': 'Cruelty by Husband or his Relatives',\n",
    "    'IMPORTATION OF GIRLS FROM FOREIGN COUNTRIES': 'Importation of Girls from Foreign Country',\n",
    "    'CAUSING DEATH BY NEGLIGENCE': 'Causing Death by Negligence',\n",
    "    'OTHER IPC CRIMES': 'Other IPC crimes',\n",
    "    'TOTAL IPC CRIMES': 'Total Cognizable IPC crimes'\n",
    "}\n",
    "\n",
    "swapped_column_mapping = {v: k for k, v in column_mapping.items()}\n",
    "\n",
    "# Changing the relevant and column names in IPC crimes 2014\n",
    "dis_w_cr_co_14_IPC.rename(columns= swapped_column_mapping, inplace = True)"
   ]
  },
  {
   "cell_type": "code",
   "execution_count": 5,
   "metadata": {},
   "outputs": [
    {
     "data": {
      "text/plain": [
       "Index(['STATE/UT', 'DISTRICT', 'YEAR', 'MURDER', 'ATTEMPT TO MURDER',\n",
       "       'CULPABLE HOMICIDE NOT AMOUNTING TO MURDER', 'RAPE', 'CUSTODIAL RAPE',\n",
       "       'OTHER RAPE', 'KIDNAPPING & ABDUCTION',\n",
       "       'KIDNAPPING AND ABDUCTION OF WOMEN AND GIRLS',\n",
       "       'KIDNAPPING AND ABDUCTION OF OTHERS', 'DACOITY',\n",
       "       'PREPARATION AND ASSEMBLY FOR DACOITY', 'ROBBERY', 'BURGLARY', 'THEFT',\n",
       "       'AUTO THEFT', 'OTHER THEFT', 'RIOTS', 'CRIMINAL BREACH OF TRUST',\n",
       "       'CHEATING', 'COUNTERFIETING', 'ARSON', 'HURT/GREVIOUS HURT',\n",
       "       'DOWRY DEATHS', 'ASSAULT ON WOMEN WITH INTENT TO OUTRAGE HER MODESTY',\n",
       "       'INSULT TO MODESTY OF WOMEN', 'CRUELTY BY HUSBAND OR HIS RELATIVES',\n",
       "       'IMPORTATION OF GIRLS FROM FOREIGN COUNTRIES',\n",
       "       'CAUSING DEATH BY NEGLIGENCE', 'OTHER IPC CRIMES', 'TOTAL IPC CRIMES'],\n",
       "      dtype='object')"
      ]
     },
     "execution_count": 5,
     "metadata": {},
     "output_type": "execute_result"
    }
   ],
   "source": [
    "dis_w_cr_co_1_12_IPC.columns"
   ]
  },
  {
   "cell_type": "code",
   "execution_count": 6,
   "metadata": {},
   "outputs": [],
   "source": [
    "# now keeping the common features in all the 3 datasets\n",
    "columns_swapped_list = list(column_mapping.keys())\n",
    "dis_w_cr_co_1_12_IPC = dis_w_cr_co_1_12_IPC[columns_swapped_list]\n",
    "dis_w_cr_co_13_IPC = dis_w_cr_co_13_IPC[columns_swapped_list]\n",
    "dis_w_cr_co_14_IPC = dis_w_cr_co_14_IPC[columns_swapped_list]"
   ]
  },
  {
   "cell_type": "code",
   "execution_count": 7,
   "metadata": {},
   "outputs": [],
   "source": [
    "dis_w_cr_co_IPC = pd.concat([dis_w_cr_co_1_12_IPC, dis_w_cr_co_13_IPC, dis_w_cr_co_14_IPC], ignore_index=True)"
   ]
  },
  {
   "cell_type": "code",
   "execution_count": 8,
   "metadata": {},
   "outputs": [
    {
     "data": {
      "text/plain": [
       "Index(['STATE/UT', 'DISTRICT', 'Year', 'Murder', 'Rape',\n",
       "       'Kidnapping and Abduction', 'Dacoity', 'Robbery', 'Arson', 'Hurt',\n",
       "       'Prevention of atrocities (POA) Act',\n",
       "       'Protection of Civil Rights (PCR) Act', 'Other Crimes Against SCs'],\n",
       "      dtype='object')"
      ]
     },
     "execution_count": 8,
     "metadata": {},
     "output_type": "execute_result"
    }
   ],
   "source": [
    "dis_w_cr_co_1_12_SC.columns"
   ]
  },
  {
   "cell_type": "code",
   "execution_count": 9,
   "metadata": {},
   "outputs": [
    {
     "data": {
      "text/plain": [
       "Index(['STATE/UT', 'DISTRICT', 'Year', 'Murder', 'Rape',\n",
       "       'Kidnapping and Abduction', 'Dacoity', 'Robbery', 'Arson', 'Hurt',\n",
       "       'Protection of Civil Rights (PCR) Act',\n",
       "       'Prevention of atrocities (POA) Act', 'Other Crimes Against SCs'],\n",
       "      dtype='object')"
      ]
     },
     "execution_count": 9,
     "metadata": {},
     "output_type": "execute_result"
    }
   ],
   "source": [
    "dis_w_cr_co_13_SC.columns"
   ]
  },
  {
   "cell_type": "code",
   "execution_count": 10,
   "metadata": {},
   "outputs": [
    {
     "data": {
      "text/plain": [
       "Index(['States/UTs', 'District', 'Year',\n",
       "       'Protection of Civil Rights Act, 1955', 'POA_Murder',\n",
       "       'POA_Attempt to commit Murder', 'POA_Rape',\n",
       "       'POA_Attempt to commit Rape',\n",
       "       'POA_Assault on women with intent to outrage her Modesty',\n",
       "       'POA_Sexual Harassment', 'POA_Assault on women with intent to Disrobe',\n",
       "       'POA_Voyeurism', 'POA_Stalking', 'POA_Other Sexual Harassment',\n",
       "       'POA_Insult to the Modesty of women',\n",
       "       'POA_Kidnapping & Abduction_GrandTotal',\n",
       "       'POA_Kidnaping & Abduction_Total',\n",
       "       'POA_Kidnaping & Abduction in order to Murder',\n",
       "       'POA_Kidnapping for Ransom',\n",
       "       'POA_Kidnapping & Abduction of Women to compel her for marriage',\n",
       "       'POA_Other Kidnapping', 'POA_Dacoity', 'POA_Dacoity with Murder',\n",
       "       'POA_Other Dacoity', 'POA_Robbery', 'POA_Arson', 'POA_Grievous Hurt',\n",
       "       'POA_Hurt', 'POA_Acid attack', 'POA_Attempt to Acid Attack',\n",
       "       'POA_Riots', 'POA_Other IPC crimes',\n",
       "       'POA_SC / ST (Prevention of Atrocities) Act only',\n",
       "       'Total of SC/ST (Prevention of Atrocities) Act ,1989', 'IPC_Murder',\n",
       "       'IPC_Attempt to commit Murder', 'IPC_Rape',\n",
       "       'IPC_Attempt to commit Rape',\n",
       "       'IPC_Assault on women with intent to outrage her Modesty',\n",
       "       'IPC_Sexual Harassment', 'IPC_Assault on women with intent to Disrobe',\n",
       "       'IPC_Voyeurism', 'IPC_Stalking', 'IPC_Other Sexual Harassment',\n",
       "       'IPC_Insult to the Modesty of women', 'IPC_Kidnapping & Abduction',\n",
       "       'IPC_Kidnaping & Abduction',\n",
       "       'IPC_Kidnaping & Abduction in order to Murder',\n",
       "       'IPC_Kidnapping for Ransom',\n",
       "       'IPC_Kidnapping & Abduction of Women to compel her for marriage',\n",
       "       'IPC_Other Kidnapping', 'IPC_Dacoity', 'IPC_Dacoity with Murder',\n",
       "       'IPC_Other Dacoity', 'IPC_Robbery', 'IPC_Arson', 'IPC_Grievous Hurt',\n",
       "       'IPC_Hurt', 'IPC_Acid attack', 'IPC_Attempt to Acid Attack',\n",
       "       'IPC_Riots', 'IPC_Other IPC crimes', 'Total IPC Crimes against SCs',\n",
       "       'Manual Scavengers and Construction of Dry Latrines (P) Act, 1993',\n",
       "       'Other SLL Crime against SCs', 'Total crimes against SCs'],\n",
       "      dtype='object')"
      ]
     },
     "execution_count": 10,
     "metadata": {},
     "output_type": "execute_result"
    }
   ],
   "source": [
    "dis_w_cr_co_14_SC.columns"
   ]
  },
  {
   "cell_type": "code",
   "execution_count": 11,
   "metadata": {},
   "outputs": [],
   "source": [
    "dis_w_cr_co_13_SC[\"Total crimes against SCs\"] = dis_w_cr_co_13_SC.drop(columns = ['STATE/UT', 'DISTRICT', 'Year']).sum(axis = 1)\n",
    "dis_w_cr_co_1_12_SC[\"Total crimes against SCs\"] = dis_w_cr_co_1_12_SC.drop(columns = ['STATE/UT', 'DISTRICT', 'Year']).sum(axis = 1)"
   ]
  },
  {
   "cell_type": "code",
   "execution_count": 12,
   "metadata": {},
   "outputs": [],
   "source": [
    "# SC column mapping\n",
    "dis_w_cr_co_14_SC.rename(columns = {'States/UTs' : 'STATE/UT',\n",
    "                                    'District' : 'DISTRICT',\n",
    "                                    \"Protection of Civil Rights Act, 1955\":'Protection of Civil Rights (PCR) Act'},                                    \n",
    "                                    inplace=True)"
   ]
  },
  {
   "cell_type": "code",
   "execution_count": 13,
   "metadata": {},
   "outputs": [],
   "source": [
    "# Adding up features in the 2014 dataset accordingly for it to match the features of 2001 to 2013 datasets\n",
    "feature_mapping = {\n",
    "    'Murder': ['POA_Murder', 'IPC_Murder'],\n",
    "    'Rape': ['POA_Rape', 'IPC_Rape'],\n",
    "    'Kidnapping and Abduction': ['POA_Kidnapping & Abduction_GrandTotal', 'IPC_Kidnaping & Abduction'],\n",
    "    'Dacoity': ['POA_Dacoity', 'IPC_Dacoity'],\n",
    "    'Robbery': ['POA_Robbery', 'IPC_Robbery'],\n",
    "    'Arson': ['POA_Arson', 'IPC_Arson'],\n",
    "    'Hurt': ['POA_Grievous Hurt', 'IPC_Grievous Hurt'],\n",
    "    'Prevention of atrocities (POA) Act': ['POA_Grievous Hurt', 'POA_Arson', 'POA_Robbery', 'POA_Dacoity', 'POA_Rape', 'POA_Murder', 'POA_Kidnapping & Abduction_GrandTotal','POA_Assault on women with intent to outrage her Modesty', 'POA_Insult to the Modesty of women', 'POA_Sexual Harassment', 'POA_Assault on women with intent to Disrobe', 'POA_Voyeurism', 'POA_Stalking', 'POA_Other Sexual Harassment'],\n",
    "    'Other Crimes Against SCs': ['Other SLL Crime against SCs', 'Manual Scavengers and Construction of Dry Latrines (P) Act, 1993']\n",
    "}\n",
    "\n",
    "for features_name, related_features in feature_mapping.items():\n",
    "    dis_w_cr_co_14_SC[features_name] = dis_w_cr_co_14_SC[related_features].sum(axis = 1)\n"
   ]
  },
  {
   "cell_type": "code",
   "execution_count": 14,
   "metadata": {},
   "outputs": [
    {
     "data": {
      "text/html": [
       "<div>\n",
       "<style scoped>\n",
       "    .dataframe tbody tr th:only-of-type {\n",
       "        vertical-align: middle;\n",
       "    }\n",
       "\n",
       "    .dataframe tbody tr th {\n",
       "        vertical-align: top;\n",
       "    }\n",
       "\n",
       "    .dataframe thead th {\n",
       "        text-align: right;\n",
       "    }\n",
       "</style>\n",
       "<table border=\"1\" class=\"dataframe\">\n",
       "  <thead>\n",
       "    <tr style=\"text-align: right;\">\n",
       "      <th></th>\n",
       "      <th>STATE/UT</th>\n",
       "      <th>DISTRICT</th>\n",
       "      <th>Year</th>\n",
       "      <th>Murder</th>\n",
       "      <th>Rape</th>\n",
       "      <th>Kidnapping and Abduction</th>\n",
       "      <th>Dacoity</th>\n",
       "      <th>Robbery</th>\n",
       "      <th>Arson</th>\n",
       "      <th>Hurt</th>\n",
       "      <th>Prevention of atrocities (POA) Act</th>\n",
       "      <th>Protection of Civil Rights (PCR) Act</th>\n",
       "      <th>Other Crimes Against SCs</th>\n",
       "      <th>Total crimes against SCs</th>\n",
       "    </tr>\n",
       "  </thead>\n",
       "  <tbody>\n",
       "    <tr>\n",
       "      <th>0</th>\n",
       "      <td>Andhra Pradesh</td>\n",
       "      <td>Anantapur</td>\n",
       "      <td>2014</td>\n",
       "      <td>3</td>\n",
       "      <td>1</td>\n",
       "      <td>0</td>\n",
       "      <td>0</td>\n",
       "      <td>0</td>\n",
       "      <td>0</td>\n",
       "      <td>0</td>\n",
       "      <td>14</td>\n",
       "      <td>0</td>\n",
       "      <td>0</td>\n",
       "      <td>170</td>\n",
       "    </tr>\n",
       "    <tr>\n",
       "      <th>1</th>\n",
       "      <td>Andhra Pradesh</td>\n",
       "      <td>Chittoor</td>\n",
       "      <td>2014</td>\n",
       "      <td>2</td>\n",
       "      <td>1</td>\n",
       "      <td>1</td>\n",
       "      <td>0</td>\n",
       "      <td>0</td>\n",
       "      <td>3</td>\n",
       "      <td>0</td>\n",
       "      <td>18</td>\n",
       "      <td>0</td>\n",
       "      <td>0</td>\n",
       "      <td>118</td>\n",
       "    </tr>\n",
       "    <tr>\n",
       "      <th>2</th>\n",
       "      <td>Andhra Pradesh</td>\n",
       "      <td>Cuddapah</td>\n",
       "      <td>2014</td>\n",
       "      <td>4</td>\n",
       "      <td>5</td>\n",
       "      <td>2</td>\n",
       "      <td>0</td>\n",
       "      <td>0</td>\n",
       "      <td>0</td>\n",
       "      <td>0</td>\n",
       "      <td>17</td>\n",
       "      <td>0</td>\n",
       "      <td>0</td>\n",
       "      <td>262</td>\n",
       "    </tr>\n",
       "    <tr>\n",
       "      <th>3</th>\n",
       "      <td>Andhra Pradesh</td>\n",
       "      <td>East Godavari</td>\n",
       "      <td>2014</td>\n",
       "      <td>0</td>\n",
       "      <td>4</td>\n",
       "      <td>0</td>\n",
       "      <td>0</td>\n",
       "      <td>0</td>\n",
       "      <td>0</td>\n",
       "      <td>25</td>\n",
       "      <td>74</td>\n",
       "      <td>6</td>\n",
       "      <td>0</td>\n",
       "      <td>178</td>\n",
       "    </tr>\n",
       "    <tr>\n",
       "      <th>4</th>\n",
       "      <td>Andhra Pradesh</td>\n",
       "      <td>Guntakal Railway</td>\n",
       "      <td>2014</td>\n",
       "      <td>0</td>\n",
       "      <td>0</td>\n",
       "      <td>0</td>\n",
       "      <td>0</td>\n",
       "      <td>0</td>\n",
       "      <td>0</td>\n",
       "      <td>0</td>\n",
       "      <td>0</td>\n",
       "      <td>0</td>\n",
       "      <td>0</td>\n",
       "      <td>0</td>\n",
       "    </tr>\n",
       "  </tbody>\n",
       "</table>\n",
       "</div>"
      ],
      "text/plain": [
       "         STATE/UT          DISTRICT  Year  Murder  Rape  \\\n",
       "0  Andhra Pradesh         Anantapur  2014       3     1   \n",
       "1  Andhra Pradesh          Chittoor  2014       2     1   \n",
       "2  Andhra Pradesh          Cuddapah  2014       4     5   \n",
       "3  Andhra Pradesh     East Godavari  2014       0     4   \n",
       "4  Andhra Pradesh  Guntakal Railway  2014       0     0   \n",
       "\n",
       "   Kidnapping and Abduction  Dacoity  Robbery  Arson  Hurt  \\\n",
       "0                         0        0        0      0     0   \n",
       "1                         1        0        0      3     0   \n",
       "2                         2        0        0      0     0   \n",
       "3                         0        0        0      0    25   \n",
       "4                         0        0        0      0     0   \n",
       "\n",
       "   Prevention of atrocities (POA) Act  Protection of Civil Rights (PCR) Act  \\\n",
       "0                                  14                                     0   \n",
       "1                                  18                                     0   \n",
       "2                                  17                                     0   \n",
       "3                                  74                                     6   \n",
       "4                                   0                                     0   \n",
       "\n",
       "   Other Crimes Against SCs  Total crimes against SCs  \n",
       "0                         0                       170  \n",
       "1                         0                       118  \n",
       "2                         0                       262  \n",
       "3                         0                       178  \n",
       "4                         0                         0  "
      ]
     },
     "execution_count": 14,
     "metadata": {},
     "output_type": "execute_result"
    }
   ],
   "source": [
    "important_features_SC = dis_w_cr_co_1_12_SC.columns\n",
    "dis_w_cr_co_14_SC = dis_w_cr_co_14_SC[important_features_SC]\n",
    "dis_w_cr_co_14_SC.head()"
   ]
  },
  {
   "cell_type": "code",
   "execution_count": 15,
   "metadata": {},
   "outputs": [],
   "source": [
    "dis_w_cr_co_SC_final = pd.concat([dis_w_cr_co_1_12_SC, dis_w_cr_co_13_SC, dis_w_cr_co_14_SC], ignore_index=True)"
   ]
  },
  {
   "cell_type": "markdown",
   "metadata": {},
   "source": [
    "Similarly for district wise crimes against STs"
   ]
  },
  {
   "cell_type": "code",
   "execution_count": 16,
   "metadata": {},
   "outputs": [
    {
     "data": {
      "text/plain": [
       "Index(['STATE/UT', 'DISTRICT', 'Year', 'Murder', 'Rape',\n",
       "       'Kidnapping Abduction', 'Dacoity', 'Robbery', 'Arson', 'Hurt',\n",
       "       'Protection of Civil Rights (PCR) Act',\n",
       "       'Prevention of atrocities (POA) Act', 'Other Crimes Against STs'],\n",
       "      dtype='object')"
      ]
     },
     "execution_count": 16,
     "metadata": {},
     "output_type": "execute_result"
    }
   ],
   "source": [
    "dis_w_cr_co_13_ST.columns"
   ]
  },
  {
   "cell_type": "code",
   "execution_count": 17,
   "metadata": {},
   "outputs": [
    {
     "data": {
      "text/plain": [
       "Index(['States/UTs', 'District', 'Year',\n",
       "       'Protection of Civil Rights Act, 1955', 'POA_Murder',\n",
       "       'POA_Attempt to commit Murder', 'POA_Rape',\n",
       "       'POA_Attempt to commit Rape',\n",
       "       'POA_Assault on women with intent to outrage her Modesty',\n",
       "       'POA_Sexual Harassment', 'POA_Assault on women with intent to Disrobe',\n",
       "       'POA_Voyeurism', 'POA_Stalking', 'POA_Other Sexual Harassment',\n",
       "       'POA_Insult to the Modesty of women',\n",
       "       'POA_Kidnapping & Abduction_GrandTotal',\n",
       "       'POA_Kidnaping & Abduction_Total',\n",
       "       'POA_Kidnaping & Abduction in order to Murder',\n",
       "       'POA_Kidnapping for Ransom',\n",
       "       'POA_Kidnapping & Abduction of Women to compel her for marriage',\n",
       "       'POA_Other Kidnapping', 'POA_Dacoity', 'POA_Dacoity with Murder',\n",
       "       'POA_Other Dacoity', 'POA_Robbery', 'POA_Arson', 'POA_Grievous Hurt',\n",
       "       'POA_Hurt', 'POA_Acid attack', 'POA_Attempt to Acid Attack',\n",
       "       'POA_Riots', 'POA_Other IPC crimes',\n",
       "       'POA_SC / ST (Prevention of Atrocities) Act only',\n",
       "       'Total of SC/ST (Prevention of Atrocities) Act ,1989', 'IPC_Murder',\n",
       "       'IPC_Attempt to commit Murder', 'IPC_Rape',\n",
       "       'IPC_Attempt to commit Rape',\n",
       "       'IPC_Assault on women with intent to outrage her Modesty',\n",
       "       'IPC_Sexual Harassment', 'IPC_Assault on women with intent to Disrobe',\n",
       "       'IPC_Voyeurism', 'IPC_Stalking', 'IPC_Other Sexual Harassment',\n",
       "       'IPC_Insult to the Modesty of women', 'IPC_Kidnapping & Abduction',\n",
       "       'IPC_Kidnaping & Abduction',\n",
       "       'IPC_Kidnaping & Abduction in order to Murder',\n",
       "       'IPC_Kidnapping for Ransom',\n",
       "       'IPC_Kidnapping & Abduction of Women to compel her for marriage',\n",
       "       'IPC_Other Kidnapping', 'IPC_Dacoity', 'IPC_Dacoity with Murder',\n",
       "       'IPC_Other Dacoity', 'IPC_Robbery', 'IPC_Arson', 'IPC_Grievous Hurt',\n",
       "       'IPC_Hurt', 'IPC_Acid attack', 'IPC_Attempt to Acid Attack',\n",
       "       'IPC_Riots', 'IPC_Other IPC crimes', 'Total IPC Crimes against STs',\n",
       "       'Manual Scavengers and Construction of Dry Latrines (P) Act, 1993',\n",
       "       'Other SLL Crime against STs', 'Total crimes against STs'],\n",
       "      dtype='object')"
      ]
     },
     "execution_count": 17,
     "metadata": {},
     "output_type": "execute_result"
    }
   ],
   "source": [
    "dis_w_cr_co_14_ST.columns"
   ]
  },
  {
   "cell_type": "code",
   "execution_count": 18,
   "metadata": {},
   "outputs": [],
   "source": [
    "dis_w_cr_co_13_ST[\"Total crimes against STs\"] = dis_w_cr_co_13_ST.drop(columns = ['STATE/UT', 'DISTRICT', 'Year']).sum(axis=1)\n",
    "dis_w_cr_co_1_12_ST[\"Total crimes against STs\"] = dis_w_cr_co_1_12_ST.drop(columns = ['STATE/UT', 'DISTRICT', 'Year']).sum(axis=1)"
   ]
  },
  {
   "cell_type": "code",
   "execution_count": 19,
   "metadata": {},
   "outputs": [],
   "source": [
    "dis_w_cr_co_14_ST.rename(columns = {'States/UTs' : 'STATE/UT',\n",
    "                                    'District' : 'DISTRICT',\n",
    "                                    \"Protection of Civil Rights Act, 1955\":'Protection of Civil Rights (PCR) Act'},                                    \n",
    "                                    inplace=True)"
   ]
  },
  {
   "cell_type": "code",
   "execution_count": 23,
   "metadata": {},
   "outputs": [],
   "source": [
    "# Doing the same as we did for the SC dataset\n",
    "feature_mapping = {\n",
    "    'Murder': ['POA_Murder', 'IPC_Murder'],\n",
    "    'Rape': ['POA_Rape', 'IPC_Rape'],\n",
    "    'Kidnapping Abduction': ['POA_Kidnapping & Abduction_GrandTotal', 'IPC_Kidnaping & Abduction'],\n",
    "    'Dacoity': ['POA_Dacoity', 'IPC_Dacoity'],\n",
    "    'Robbery': ['POA_Robbery', 'IPC_Robbery'],\n",
    "    'Arson': ['POA_Arson', 'IPC_Arson'],\n",
    "    'Hurt': ['POA_Grievous Hurt', 'IPC_Grievous Hurt'],\n",
    "    'Prevention of atrocities (POA) Act': [\n",
    "        'POA_Assault on women with intent to outrage her Modesty',\n",
    "        'POA_Insult to the Modesty of women',\n",
    "        'POA_Sexual Harassment',\n",
    "        'POA_Assault on women with intent to Disrobe',\n",
    "        'POA_Voyeurism',\n",
    "        'POA_Stalking',\n",
    "        'POA_Other Sexual Harassment', 'POA_Murder', 'POA_Rape', 'POA_Kidnapping & Abduction_GrandTotal',\n",
    "        'POA_Dacoity', 'POA_Robbery', 'POA_Arson', 'POA_Grievous Hurt'\n",
    "    ],\n",
    "    'Other Crimes Against STs': [\n",
    "        'Other SLL Crime against STs',\n",
    "        'Total IPC Crimes against STs',\n",
    "        'Manual Scavengers and Construction of Dry Latrines (P) Act, 1993'\n",
    "    ],\n",
    "    'Total IPC Crimes against STs': ['IPC_Other IPC crimes']\n",
    "}\n",
    "\n",
    "for feature_name, related_features in feature_mapping.items():\n",
    "    dis_w_cr_co_14_ST[feature_name] = dis_w_cr_co_14_ST[related_features].sum(axis=1)\n"
   ]
  },
  {
   "cell_type": "code",
   "execution_count": 24,
   "metadata": {},
   "outputs": [],
   "source": [
    "dis_w_cr_co_14_ST = dis_w_cr_co_14_ST[dis_w_cr_co_13_ST.columns]"
   ]
  },
  {
   "cell_type": "code",
   "execution_count": 25,
   "metadata": {},
   "outputs": [],
   "source": [
    "dis_w_cr_co_ST_final = pd.concat([dis_w_cr_co_1_12_ST, dis_w_cr_co_13_ST, dis_w_cr_co_14_ST], ignore_index=True)"
   ]
  },
  {
   "cell_type": "code",
   "execution_count": 26,
   "metadata": {},
   "outputs": [
    {
     "data": {
      "text/plain": [
       "Index(['STATE/UT', 'DISTRICT', 'Year', 'Murder', 'Rape',\n",
       "       'Kidnapping Abduction', 'Dacoity', 'Robbery', 'Arson', 'Hurt',\n",
       "       'Protection of Civil Rights (PCR) Act',\n",
       "       'Prevention of atrocities (POA) Act', 'Other Crimes Against STs',\n",
       "       'Total crimes against STs'],\n",
       "      dtype='object')"
      ]
     },
     "execution_count": 26,
     "metadata": {},
     "output_type": "execute_result"
    }
   ],
   "source": [
    "dis_w_cr_co_ST_final.columns"
   ]
  },
  {
   "cell_type": "code",
   "execution_count": 27,
   "metadata": {},
   "outputs": [],
   "source": [
    "dis_w_cr_co_children_final = pd.concat([dis_w_cr_co_1_12_children, dis_w_cr_co_13_children], ignore_index=True)"
   ]
  },
  {
   "cell_type": "code",
   "execution_count": null,
   "metadata": {},
   "outputs": [],
   "source": []
  }
 ],
 "metadata": {
  "kernelspec": {
   "display_name": "Python 3",
   "language": "python",
   "name": "python3"
  },
  "language_info": {
   "codemirror_mode": {
    "name": "ipython",
    "version": 3
   },
   "file_extension": ".py",
   "mimetype": "text/x-python",
   "name": "python",
   "nbconvert_exporter": "python",
   "pygments_lexer": "ipython3",
   "version": "3.10.4"
  }
 },
 "nbformat": 4,
 "nbformat_minor": 2
}
