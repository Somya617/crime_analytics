{
 "cells": [
  {
   "cell_type": "markdown",
   "metadata": {},
   "source": [
    "# Goal\n",
    "In this ipynb file we will analyse people arrested and their disposal by the police which will give us an idea of how many people are involved in what types of crimes to predict which type of crime will require the most police attention"
   ]
  },
  {
   "cell_type": "markdown",
   "metadata": {},
   "source": [
    "### Problem Statement\n",
    "Prediction of crime, prognosis and patrol route map forecasting:\n",
    "\n",
    "\n",
    "Predict crime hotspots by analysing historical crime data, socio-economic factors, and\n",
    "environmental variables. Also generate dynamic patrol routes by considering predicted crime\n",
    "hotspots, traffic conditons, and priority areas."
   ]
  },
  {
   "cell_type": "markdown",
   "metadata": {},
   "source": [
    "#### Data Loading and Joining"
   ]
  },
  {
   "cell_type": "code",
   "execution_count": 1,
   "metadata": {},
   "outputs": [],
   "source": [
    "import pandas as pd"
   ]
  },
  {
   "cell_type": "code",
   "execution_count": 2,
   "metadata": {},
   "outputs": [],
   "source": [
    "prsn_arr_cr_ag_ch_12 = pd.read_csv(\"AggregrateData/03_Persons_arrested_and_their_disposal_by_police_and_court_under_crime_against_children_2012.csv\")\n",
    "prsn_arr_cr_ag_ch_13 = pd.read_csv(\"AggregrateData/03_Persons_arrested_and_their_disposal_by_police_and_court_under_crime_against_children_2013.csv\")\n",
    "prsn_arr_cr_ag_ch_14 = pd.read_csv(\"AggregrateData/03_Persons_arrested_and_their_disposal_by_police_and_court_under_crime_against_children_2014.csv\")"
   ]
  },
  {
   "cell_type": "code",
   "execution_count": 3,
   "metadata": {},
   "outputs": [],
   "source": [
    "prsn_arr_SLL_12 = pd.read_csv(\"AggregrateData/04_01_Person_arrested_and_their_disposal_by_police_and_court_SLL_crime_2012.csv\")\n",
    "prsn_arr_SLL_13 = pd.read_csv(\"AggregrateData/04_01_Person_arrested_and_their_disposal_by_police_and_court_SLL_crime_2013.csv\")\n",
    "prsn_arr_SLL_14 = pd.read_csv(\"AggregrateData/04_01_Person_arrested_and_their_disposal_by_police_and_court_SLL_crime_2014.csv\")"
   ]
  },
  {
   "cell_type": "code",
   "execution_count": 4,
   "metadata": {},
   "outputs": [],
   "source": [
    "prsn_arr_IPC_12 = pd.read_csv(\"AggregrateData/04_02_Person_arrested_and_their_disposal_by_police_and_court_IPC_crime_2012.csv\")\n",
    "prsn_arr_IPC_13 = pd.read_csv(\"AggregrateData/04_02_Person_arrested_and_their_disposal_by_police_and_court_IPC_crime_2013.csv\")\n",
    "prsn_arr_IPC_14 = pd.read_csv(\"AggregrateData/04_02_Person_arrested_and_their_disposal_by_police_and_court_IPC_crime_2014.csv\")"
   ]
  },
  {
   "cell_type": "markdown",
   "metadata": {},
   "source": [
    "#### Data Overview an Descriptive Statistics\n",
    "We will start off with checking the data types of all features and check if there are any null values"
   ]
  },
  {
   "cell_type": "code",
   "execution_count": 5,
   "metadata": {},
   "outputs": [
    {
     "data": {
      "text/plain": [
       "STATE/UT                                                                                                   object\n",
       "CRIME HEAD                                                                                                 object\n",
       "Persons in custody or on bail during the stage of investigation at the beginning of the year                int64\n",
       "Persons arrested during the year                                                                            int64\n",
       "Persons released or freed by Police or Magistrate before trial for want of evidence or any other reason     int64\n",
       "Persons in custody or on bail during the stage of investigation at the end of the year                      int64\n",
       "Persons in whose cases charge sheets were laid during the year                                              int64\n",
       "Persons under trial at the beginning of the year                                                            int64\n",
       "Total number of persons under trial during the year                                                         int64\n",
       "Persons against whom cases were compounded or withdrawn                                                     int64\n",
       "Persons in custody or on bail during the stage of trial at the end of the year                              int64\n",
       "Persons in whose cases trials were completed during the year                                                int64\n",
       "Persons convicted                                                                                           int64\n",
       "Persons acquitted                                                                                           int64\n",
       "dtype: object"
      ]
     },
     "execution_count": 5,
     "metadata": {},
     "output_type": "execute_result"
    }
   ],
   "source": [
    "prsn_arr_cr_ag_ch_12.dtypes"
   ]
  },
  {
   "cell_type": "code",
   "execution_count": 6,
   "metadata": {},
   "outputs": [
    {
     "data": {
      "text/plain": [
       "STATE/UT                                                                                                   0\n",
       "CRIME HEAD                                                                                                 0\n",
       "Persons in custody or on bail during the stage of investigation at the beginning of the year               0\n",
       "Persons arrested during the year                                                                           0\n",
       "Persons released or freed by Police or Magistrate before trial for want of evidence or any other reason    0\n",
       "Persons in custody or on bail during the stage of investigation at the end of the year                     0\n",
       "Persons in whose cases charge sheets were laid during the year                                             0\n",
       "Persons under trial at the beginning of the year                                                           0\n",
       "Total number of persons under trial during the year                                                        0\n",
       "Persons against whom cases were compounded or withdrawn                                                    0\n",
       "Persons in custody or on bail during the stage of trial at the end of the year                             0\n",
       "Persons in whose cases trials were completed during the year                                               0\n",
       "Persons convicted                                                                                          0\n",
       "Persons acquitted                                                                                          0\n",
       "dtype: int64"
      ]
     },
     "execution_count": 6,
     "metadata": {},
     "output_type": "execute_result"
    }
   ],
   "source": [
    "prsn_arr_cr_ag_ch_12.isna().sum()"
   ]
  },
  {
   "cell_type": "code",
   "execution_count": 7,
   "metadata": {},
   "outputs": [
    {
     "data": {
      "text/plain": [
       "STATE/UT                                                                                                   0\n",
       "CRIME HEAD                                                                                                 0\n",
       "Persons in custody or on bail during the stage of investigation at the beginning of the year               0\n",
       "Persons arrested during the year                                                                           0\n",
       "Persons released or freed by Police or Magistrate before trial for want of evidence or any other reason    0\n",
       "Persons in custody or on bail during the stage of investigation at the end of the year                     0\n",
       "Persons in whose cases charge sheets were laid during the year                                             0\n",
       "Persons under trial at the beginning of the year                                                           0\n",
       "Total number of persons under trial during the year                                                        0\n",
       "Persons against whom cases were compounded or withdrawn                                                    0\n",
       "Persons in custody or on bail during the stage of trial at the end of the year                             0\n",
       "Persons in whose cases trials were completed during the year                                               0\n",
       "Persons convicted                                                                                          0\n",
       "Persons acquitted                                                                                          0\n",
       "dtype: int64"
      ]
     },
     "execution_count": 7,
     "metadata": {},
     "output_type": "execute_result"
    }
   ],
   "source": [
    "prsn_arr_cr_ag_ch_13.isna().sum()"
   ]
  },
  {
   "cell_type": "code",
   "execution_count": 8,
   "metadata": {},
   "outputs": [
    {
     "data": {
      "text/plain": [
       "States/UTs                                                          0\n",
       "Crime Head                                                          0\n",
       "Year                                                                0\n",
       "Persons in custody during inv stage at beginning of Year_Male       0\n",
       "Persons in custody during inv stage at beginning of Year_Female     0\n",
       "Persons in custody during inv stage at beginning of Year_Total      0\n",
       "Persons on bail during inv stage at beginning of Year_Male          0\n",
       "Persons on bail during inv stage at beginning of Year_Female        0\n",
       "Persons on bail during inv stage at beginning of Year_Total         0\n",
       "Persons arrested during the year_Male                               0\n",
       "Persons arrested during the year_Female                             0\n",
       "Persons arrested during the year_Total                              0\n",
       "Persons released or freed before trial for want of evidence_Male    0\n",
       "Persons released or freed before trial for want of evidence_Fem     0\n",
       "Persons released or freed before trial for want of evidence_Tot     0\n",
       "Persons in custody during inv stage at year end_Male                0\n",
       "Persons in custody during inv stage at year end_Female              0\n",
       "Persons in custody during inv stage at year end_Total               0\n",
       "Persons on Bail during inv stage at year end_Male                   0\n",
       "Persons on Bail during inv stage at Year end_Female                 0\n",
       "Persons on Bail during inv stage at year end_Total                  0\n",
       "Persons charge sheeted_Male                                         0\n",
       "Persons charge sheeted_Female                                       0\n",
       "Persons charge sheeted_Total                                        0\n",
       "Persons in custody during trial stage at begin of year_Male         0\n",
       "Persons in custody during trial stage at begin of year_Female       0\n",
       "Persons in custody during trial stage at begin of year_Total        0\n",
       "Persons on Bail during trial stage at begin of year_Male            0\n",
       "Persons on Bail during trial stage at begin of year_Female          0\n",
       "Persons on Bail during trial stage at begin of year_Total           0\n",
       "Total number of persons under Trial_Male                            0\n",
       "Total number of persons under Trial_Female                          0\n",
       "Total number of persons under Trial_Total                           0\n",
       "Persons against whom cases were compounded by Courts_Male           0\n",
       "Persons against whom cases were compounded by Courts_Female         0\n",
       "Persons against whom cases were compounded by Courts_Total          0\n",
       "Persons against whom cases were withdrawn_Male                      0\n",
       "Persons against whom cases were withdrawn_Female                    0\n",
       "Persons against whom cases were withdrawn_Total                     0\n",
       "Persons in custody during trial stage at Year end_Male              0\n",
       "Persons in custody during trial stage at Year end_Female            0\n",
       "Persons in custody during trial stage at Year end_Total             0\n",
       "Persons on bail during trial stage at Year End_Male                 0\n",
       "Persons on bail during trial stage at Year End_Female               0\n",
       "Persons on bail during trial stage at Year End_Total                0\n",
       "Persons whose cases trials were completed during the year_Male      0\n",
       "Persons whose cases trials were completed during the year_Female    0\n",
       "Persons whose cases trials were completed during the year_Total     0\n",
       "Persons convicted_Male                                              0\n",
       "Persons convicted_Female                                            0\n",
       "Persons convicted_Total                                             0\n",
       "Persons acquitted_Male                                              0\n",
       "Persons acquitted_Female                                            0\n",
       "Persons acquitted_Total                                             0\n",
       "Persons Discharged by Court_Male                                    0\n",
       "Persons Discharged by Court_Female                                  0\n",
       "Persons Discharged by Court_Total                                   0\n",
       "dtype: int64"
      ]
     },
     "execution_count": 8,
     "metadata": {},
     "output_type": "execute_result"
    }
   ],
   "source": [
    "prsn_arr_cr_ag_ch_14.isna().sum()"
   ]
  },
  {
   "cell_type": "code",
   "execution_count": 9,
   "metadata": {},
   "outputs": [
    {
     "data": {
      "text/plain": [
       "STATE/UT                                                                                                   0\n",
       "CRIME HEAD                                                                                                 0\n",
       "Persons in custody or on bail during the stage of investigation at the beginning of the year               0\n",
       "Persons arrested during the year                                                                           0\n",
       "Persons released or freed by Police or Magistrate before trial for want of evidence or any other reason    0\n",
       "Persons in custody or on bail during the stage of investigation at the end of the year                     0\n",
       "Persons in whose cases charge sheets were laid during the year                                             0\n",
       "Persons under trial at the beginning of the year                                                           0\n",
       "Total number of persons under trial during the year                                                        0\n",
       "Persons against whom cases were compounded or withdrawn                                                    0\n",
       "Persons in custody or on bail during the stage of trial at the end of the year                             0\n",
       "Persons in whose cases trials were completed during the year                                               0\n",
       "Persons convicted                                                                                          0\n",
       "Persons acquitted                                                                                          0\n",
       "dtype: int64"
      ]
     },
     "execution_count": 9,
     "metadata": {},
     "output_type": "execute_result"
    }
   ],
   "source": [
    "prsn_arr_IPC_12.isna().sum()"
   ]
  },
  {
   "cell_type": "code",
   "execution_count": 10,
   "metadata": {},
   "outputs": [
    {
     "data": {
      "text/plain": [
       "STATE/UT                                                                                                   0\n",
       "CRIME HEAD                                                                                                 0\n",
       "Persons in custody or on bail during the stage of investigation at the beginning of the year               0\n",
       "Persons arrested during the year                                                                           0\n",
       "Persons released or freed by Police or Magistrate before trial for want of evidence or any other reason    0\n",
       "Persons in custody or on bail during the stage of investigation at the end of the year                     0\n",
       "Persons in whose cases charge sheets were laid during the year                                             0\n",
       "Persons under trial at the beginning of the year                                                           0\n",
       "Total number of persons under trial during the year                                                        0\n",
       "Persons against whom cases were compounded or withdrawn                                                    0\n",
       "Persons in custody or on bail during the stage of trial at the end of the year                             0\n",
       "Persons in whose cases trials were completed during the year                                               0\n",
       "Persons convicted                                                                                          0\n",
       "Persons acquitted                                                                                          0\n",
       "dtype: int64"
      ]
     },
     "execution_count": 10,
     "metadata": {},
     "output_type": "execute_result"
    }
   ],
   "source": [
    "prsn_arr_IPC_13.isna().sum()"
   ]
  },
  {
   "cell_type": "code",
   "execution_count": 11,
   "metadata": {},
   "outputs": [
    {
     "data": {
      "text/plain": [
       "States/UTs                                                          0\n",
       "Crime Head                                                          0\n",
       "Year                                                                0\n",
       "Persons in custody during inv stage at beginning of Year_Male       0\n",
       "Persons in custody during inv stage at beginning of Year_Female     0\n",
       "Persons in custody during inv stage at beginning of Year_Total      0\n",
       "Persons on bail during inv stage at beginning of Year_Male          0\n",
       "Persons on bail during inv stage at beginning of Year_Female        0\n",
       "Persons on bail during inv stage at beginning of Year_Total         0\n",
       "Persons arrested during the year_Male                               0\n",
       "Persons arrested during the year_Female                             0\n",
       "Persons arrested during the year_Total                              0\n",
       "Persons released or freed before trial for want of evidence_Male    0\n",
       "Persons released or freed before trial for want of evidence_Fem     0\n",
       "Persons released or freed before trial for want of evidence_Tot     0\n",
       "Persons in custody during inv stage at year end_Male                0\n",
       "Persons in custody during inv stage at year end_Female              0\n",
       "Persons in custody during inv stage at year end_Total               0\n",
       "Persons on Bail during inv stage at year end_Male                   0\n",
       "Persons on Bail during inv stage at Year end_Female                 0\n",
       "Persons on Bail during inv stage at year end_Total                  0\n",
       "Persons charge sheeted_Male                                         0\n",
       "Persons charge sheeted_Female                                       0\n",
       "Persons charge sheeted_Total                                        0\n",
       "Persons in custody during trial stage at begin of year_Male         0\n",
       "Persons in custody during trial stage at begin of year_Female       0\n",
       "Persons in custody during trial stage at begin of year_Total        0\n",
       "Persons on Bail during trial stage at begin of year_Male            0\n",
       "Persons on Bail during trial stage at begin of year_Female          0\n",
       "Persons on Bail during trial stage at begin of year_Total           0\n",
       "Total number of persons under Trial_Male                            0\n",
       "Total number of persons under Trial_Female                          0\n",
       "Total number of persons under Trial_Total                           0\n",
       "Persons against whom cases were compounded by Courts_Male           0\n",
       "Persons against whom cases were compounded by Courts_Female         0\n",
       "Persons against whom cases were compounded by Courts_Total          0\n",
       "Persons against whom cases were withdrawn_Male                      0\n",
       "Persons against whom cases were withdrawn_Female                    0\n",
       "Persons against whom cases were withdrawn_Total                     0\n",
       "Persons in custody during trial stage at Year end_Male              0\n",
       "Persons in custody during trial stage at Year end_Female            0\n",
       "Persons in custody during trial stage at Year end_Total             0\n",
       "Persons on bail during trial stage at Year End_Male                 0\n",
       "Persons on bail during trial stage at Year End_Female               0\n",
       "Persons on bail during trial stage at Year End_Total                0\n",
       "Persons whose cases trials were completed during the year_Male      0\n",
       "Persons whose cases trials were completed during the year_Female    0\n",
       "Persons whose cases trials were completed during the year_Total     0\n",
       "Persons convicted_Male                                              0\n",
       "Persons convicted_Female                                            0\n",
       "Persons convicted_Total                                             0\n",
       "Persons acquitted_Male                                              0\n",
       "Persons acquitted_Female                                            0\n",
       "Persons acquitted_Total                                             0\n",
       "Persons Discharged by Court_Male                                    0\n",
       "Persons Discharged by Court_Female                                  0\n",
       "Persons Discharged by Court_Total                                   0\n",
       "dtype: int64"
      ]
     },
     "execution_count": 11,
     "metadata": {},
     "output_type": "execute_result"
    }
   ],
   "source": [
    "prsn_arr_IPC_14.isna().sum()"
   ]
  },
  {
   "cell_type": "markdown",
   "metadata": {},
   "source": [
    "Clearly no null values exist in our datasets"
   ]
  },
  {
   "cell_type": "markdown",
   "metadata": {},
   "source": [
    "#### Combining the dataset\n",
    "In order to combine the dataset we need to know the features present in all of them"
   ]
  },
  {
   "cell_type": "code",
   "execution_count": 12,
   "metadata": {},
   "outputs": [
    {
     "name": "stdout",
     "output_type": "stream",
     "text": [
      "<class 'pandas.core.frame.DataFrame'>\n",
      "RangeIndex: 494 entries, 0 to 493\n",
      "Data columns (total 14 columns):\n",
      " #   Column                                                                                                   Non-Null Count  Dtype \n",
      "---  ------                                                                                                   --------------  ----- \n",
      " 0   STATE/UT                                                                                                 494 non-null    object\n",
      " 1   CRIME HEAD                                                                                               494 non-null    object\n",
      " 2   Persons in custody or on bail during the stage of investigation at the beginning of the year             494 non-null    int64 \n",
      " 3   Persons arrested during the year                                                                         494 non-null    int64 \n",
      " 4   Persons released or freed by Police or Magistrate before trial for want of evidence or any other reason  494 non-null    int64 \n",
      " 5   Persons in custody or on bail during the stage of investigation at the end of the year                   494 non-null    int64 \n",
      " 6   Persons in whose cases charge sheets were laid during the year                                           494 non-null    int64 \n",
      " 7   Persons under trial at the beginning of the year                                                         494 non-null    int64 \n",
      " 8   Total number of persons under trial during the year                                                      494 non-null    int64 \n",
      " 9   Persons against whom cases were compounded or withdrawn                                                  494 non-null    int64 \n",
      " 10  Persons in custody or on bail during the stage of trial at the end of the year                           494 non-null    int64 \n",
      " 11  Persons in whose cases trials were completed during the year                                             494 non-null    int64 \n",
      " 12  Persons convicted                                                                                        494 non-null    int64 \n",
      " 13  Persons acquitted                                                                                        494 non-null    int64 \n",
      "dtypes: int64(12), object(2)\n",
      "memory usage: 54.2+ KB\n",
      "<class 'pandas.core.frame.DataFrame'>\n",
      "RangeIndex: 494 entries, 0 to 493\n",
      "Data columns (total 14 columns):\n",
      " #   Column                                                                                                   Non-Null Count  Dtype \n",
      "---  ------                                                                                                   --------------  ----- \n",
      " 0   STATE/UT                                                                                                 494 non-null    object\n",
      " 1   CRIME HEAD                                                                                               494 non-null    object\n",
      " 2   Persons in custody or on bail during the stage of investigation at the beginning of the year             494 non-null    int64 \n",
      " 3   Persons arrested during the year                                                                         494 non-null    int64 \n",
      " 4   Persons released or freed by Police or Magistrate before trial for want of evidence or any other reason  494 non-null    int64 \n",
      " 5   Persons in custody or on bail during the stage of investigation at the end of the year                   494 non-null    int64 \n",
      " 6   Persons in whose cases charge sheets were laid during the year                                           494 non-null    int64 \n",
      " 7   Persons under trial at the beginning of the year                                                         494 non-null    int64 \n",
      " 8   Total number of persons under trial during the year                                                      494 non-null    int64 \n",
      " 9   Persons against whom cases were compounded or withdrawn                                                  494 non-null    int64 \n",
      " 10  Persons in custody or on bail during the stage of trial at the end of the year                           494 non-null    int64 \n",
      " 11  Persons in whose cases trials were completed during the year                                             494 non-null    int64 \n",
      " 12  Persons convicted                                                                                        494 non-null    int64 \n",
      " 13  Persons acquitted                                                                                        494 non-null    int64 \n",
      "dtypes: int64(12), object(2)\n",
      "memory usage: 54.2+ KB\n",
      "<class 'pandas.core.frame.DataFrame'>\n",
      "RangeIndex: 2028 entries, 0 to 2027\n",
      "Data columns (total 57 columns):\n",
      " #   Column                                                            Non-Null Count  Dtype \n",
      "---  ------                                                            --------------  ----- \n",
      " 0   States/UTs                                                        2028 non-null   object\n",
      " 1   Crime Head                                                        2028 non-null   object\n",
      " 2   Year                                                              2028 non-null   int64 \n",
      " 3   Persons in custody during inv stage at beginning of Year_Male     2028 non-null   int64 \n",
      " 4   Persons in custody during inv stage at beginning of Year_Female   2028 non-null   int64 \n",
      " 5   Persons in custody during inv stage at beginning of Year_Total    2028 non-null   int64 \n",
      " 6   Persons on bail during inv stage at beginning of Year_Male        2028 non-null   int64 \n",
      " 7   Persons on bail during inv stage at beginning of Year_Female      2028 non-null   int64 \n",
      " 8   Persons on bail during inv stage at beginning of Year_Total       2028 non-null   int64 \n",
      " 9   Persons arrested during the year_Male                             2028 non-null   int64 \n",
      " 10  Persons arrested during the year_Female                           2028 non-null   int64 \n",
      " 11  Persons arrested during the year_Total                            2028 non-null   int64 \n",
      " 12  Persons released or freed before trial for want of evidence_Male  2028 non-null   int64 \n",
      " 13  Persons released or freed before trial for want of evidence_Fem   2028 non-null   int64 \n",
      " 14  Persons released or freed before trial for want of evidence_Tot   2028 non-null   int64 \n",
      " 15  Persons in custody during inv stage at year end_Male              2028 non-null   int64 \n",
      " 16  Persons in custody during inv stage at year end_Female            2028 non-null   int64 \n",
      " 17  Persons in custody during inv stage at year end_Total             2028 non-null   int64 \n",
      " 18  Persons on Bail during inv stage at year end_Male                 2028 non-null   int64 \n",
      " 19  Persons on Bail during inv stage at Year end_Female               2028 non-null   int64 \n",
      " 20  Persons on Bail during inv stage at year end_Total                2028 non-null   int64 \n",
      " 21  Persons charge sheeted_Male                                       2028 non-null   int64 \n",
      " 22  Persons charge sheeted_Female                                     2028 non-null   int64 \n",
      " 23  Persons charge sheeted_Total                                      2028 non-null   int64 \n",
      " 24  Persons in custody during trial stage at begin of year_Male       2028 non-null   int64 \n",
      " 25  Persons in custody during trial stage at begin of year_Female     2028 non-null   int64 \n",
      " 26  Persons in custody during trial stage at begin of year_Total      2028 non-null   int64 \n",
      " 27  Persons on Bail during trial stage at begin of year_Male          2028 non-null   int64 \n",
      " 28  Persons on Bail during trial stage at begin of year_Female        2028 non-null   int64 \n",
      " 29  Persons on Bail during trial stage at begin of year_Total         2028 non-null   int64 \n",
      " 30  Total number of persons under Trial_Male                          2028 non-null   int64 \n",
      " 31  Total number of persons under Trial_Female                        2028 non-null   int64 \n",
      " 32  Total number of persons under Trial_Total                         2028 non-null   int64 \n",
      " 33  Persons against whom cases were compounded by Courts_Male         2028 non-null   int64 \n",
      " 34  Persons against whom cases were compounded by Courts_Female       2028 non-null   int64 \n",
      " 35  Persons against whom cases were compounded by Courts_Total        2028 non-null   int64 \n",
      " 36  Persons against whom cases were withdrawn_Male                    2028 non-null   int64 \n",
      " 37  Persons against whom cases were withdrawn_Female                  2028 non-null   int64 \n",
      " 38  Persons against whom cases were withdrawn_Total                   2028 non-null   int64 \n",
      " 39  Persons in custody during trial stage at Year end_Male            2028 non-null   int64 \n",
      " 40  Persons in custody during trial stage at Year end_Female          2028 non-null   int64 \n",
      " 41  Persons in custody during trial stage at Year end_Total           2028 non-null   int64 \n",
      " 42  Persons on bail during trial stage at Year End_Male               2028 non-null   int64 \n",
      " 43  Persons on bail during trial stage at Year End_Female             2028 non-null   int64 \n",
      " 44  Persons on bail during trial stage at Year End_Total              2028 non-null   int64 \n",
      " 45  Persons whose cases trials were completed during the year_Male    2028 non-null   int64 \n",
      " 46  Persons whose cases trials were completed during the year_Female  2028 non-null   int64 \n",
      " 47  Persons whose cases trials were completed during the year_Total   2028 non-null   int64 \n",
      " 48  Persons convicted_Male                                            2028 non-null   int64 \n",
      " 49  Persons convicted_Female                                          2028 non-null   int64 \n",
      " 50  Persons convicted_Total                                           2028 non-null   int64 \n",
      " 51  Persons acquitted_Male                                            2028 non-null   int64 \n",
      " 52  Persons acquitted_Female                                          2028 non-null   int64 \n",
      " 53  Persons acquitted_Total                                           2028 non-null   int64 \n",
      " 54  Persons Discharged by Court_Male                                  2028 non-null   int64 \n",
      " 55  Persons Discharged by Court_Female                                2028 non-null   int64 \n",
      " 56  Persons Discharged by Court_Total                                 2028 non-null   int64 \n",
      "dtypes: int64(55), object(2)\n",
      "memory usage: 903.2+ KB\n",
      "<class 'pandas.core.frame.DataFrame'>\n",
      "RangeIndex: 1140 entries, 0 to 1139\n",
      "Data columns (total 14 columns):\n",
      " #   Column                                                                                                   Non-Null Count  Dtype \n",
      "---  ------                                                                                                   --------------  ----- \n",
      " 0   STATE/UT                                                                                                 1140 non-null   object\n",
      " 1   CRIME HEAD                                                                                               1140 non-null   object\n",
      " 2   Persons in custody or on bail during the stage of investigation at the beginning of the year             1140 non-null   int64 \n",
      " 3   Persons arrested during the year                                                                         1140 non-null   int64 \n",
      " 4   Persons released or freed by Police or Magistrate before trial for want of evidence or any other reason  1140 non-null   int64 \n",
      " 5   Persons in custody or on bail during the stage of investigation at the end of the year                   1140 non-null   int64 \n",
      " 6   Persons in whose cases charge sheets were laid during the year                                           1140 non-null   int64 \n",
      " 7   Persons under trial at the beginning of the year                                                         1140 non-null   int64 \n",
      " 8   Total number of persons under trial during the year                                                      1140 non-null   int64 \n",
      " 9   Persons against whom cases were compounded or withdrawn                                                  1140 non-null   int64 \n",
      " 10  Persons in custody or on bail during the stage of trial at the end of the year                           1140 non-null   int64 \n",
      " 11  Persons in whose cases trials were completed during the year                                             1140 non-null   int64 \n",
      " 12  Persons convicted                                                                                        1140 non-null   int64 \n",
      " 13  Persons acquitted                                                                                        1140 non-null   int64 \n",
      "dtypes: int64(12), object(2)\n",
      "memory usage: 124.8+ KB\n",
      "<class 'pandas.core.frame.DataFrame'>\n",
      "RangeIndex: 1140 entries, 0 to 1139\n",
      "Data columns (total 14 columns):\n",
      " #   Column                                                                                                   Non-Null Count  Dtype \n",
      "---  ------                                                                                                   --------------  ----- \n",
      " 0   STATE/UT                                                                                                 1140 non-null   object\n",
      " 1   CRIME HEAD                                                                                               1140 non-null   object\n",
      " 2   Persons in custody or on bail during the stage of investigation at the beginning of the year             1140 non-null   int64 \n",
      " 3   Persons arrested during the year                                                                         1140 non-null   int64 \n",
      " 4   Persons released or freed by Police or Magistrate before trial for want of evidence or any other reason  1140 non-null   int64 \n",
      " 5   Persons in custody or on bail during the stage of investigation at the end of the year                   1140 non-null   int64 \n",
      " 6   Persons in whose cases charge sheets were laid during the year                                           1140 non-null   int64 \n",
      " 7   Persons under trial at the beginning of the year                                                         1140 non-null   int64 \n",
      " 8   Total number of persons under trial during the year                                                      1140 non-null   int64 \n",
      " 9   Persons against whom cases were compounded or withdrawn                                                  1140 non-null   int64 \n",
      " 10  Persons in custody or on bail during the stage of trial at the end of the year                           1140 non-null   int64 \n",
      " 11  Persons in whose cases trials were completed during the year                                             1140 non-null   int64 \n",
      " 12  Persons convicted                                                                                        1140 non-null   int64 \n",
      " 13  Persons acquitted                                                                                        1140 non-null   int64 \n",
      "dtypes: int64(12), object(2)\n",
      "memory usage: 124.8+ KB\n",
      "<class 'pandas.core.frame.DataFrame'>\n",
      "RangeIndex: 3432 entries, 0 to 3431\n",
      "Data columns (total 57 columns):\n",
      " #   Column                                                            Non-Null Count  Dtype \n",
      "---  ------                                                            --------------  ----- \n",
      " 0   States/UTs                                                        3432 non-null   object\n",
      " 1   Crime Head                                                        3432 non-null   object\n",
      " 2   Year                                                              3432 non-null   int64 \n",
      " 3   Persons in custody during inv stage at beginning of Year_Male     3432 non-null   int64 \n",
      " 4   Persons in custody during inv stage at beginning of Year_Female   3432 non-null   int64 \n",
      " 5   Persons in custody during inv stage at beginning of Year_Total    3432 non-null   int64 \n",
      " 6   Persons on bail during inv stage at beginning of Year_Male        3432 non-null   int64 \n",
      " 7   Persons on bail during inv stage at beginning of Year_Female      3432 non-null   int64 \n",
      " 8   Persons on bail during inv stage at beginning of Year_Total       3432 non-null   int64 \n",
      " 9   Persons arrested during the year_Male                             3432 non-null   int64 \n",
      " 10  Persons arrested during the year_Female                           3432 non-null   int64 \n",
      " 11  Persons arrested during the year_Total                            3432 non-null   int64 \n",
      " 12  Persons released or freed before trial for want of evidence_Male  3432 non-null   int64 \n",
      " 13  Persons released or freed before trial for want of evidence_Fem   3432 non-null   int64 \n",
      " 14  Persons released or freed before trial for want of evidence_Tot   3432 non-null   int64 \n",
      " 15  Persons in custody during inv stage at year end_Male              3432 non-null   int64 \n",
      " 16  Persons in custody during inv stage at year end_Female            3432 non-null   int64 \n",
      " 17  Persons in custody during inv stage at year end_Total             3432 non-null   int64 \n",
      " 18  Persons on Bail during inv stage at year end_Male                 3432 non-null   int64 \n",
      " 19  Persons on Bail during inv stage at Year end_Female               3432 non-null   int64 \n",
      " 20  Persons on Bail during inv stage at year end_Total                3432 non-null   int64 \n",
      " 21  Persons charge sheeted_Male                                       3432 non-null   int64 \n",
      " 22  Persons charge sheeted_Female                                     3432 non-null   int64 \n",
      " 23  Persons charge sheeted_Total                                      3432 non-null   int64 \n",
      " 24  Persons in custody during trial stage at begin of year_Male       3432 non-null   int64 \n",
      " 25  Persons in custody during trial stage at begin of year_Female     3432 non-null   int64 \n",
      " 26  Persons in custody during trial stage at begin of year_Total      3432 non-null   int64 \n",
      " 27  Persons on Bail during trial stage at begin of year_Male          3432 non-null   int64 \n",
      " 28  Persons on Bail during trial stage at begin of year_Female        3432 non-null   int64 \n",
      " 29  Persons on Bail during trial stage at begin of year_Total         3432 non-null   int64 \n",
      " 30  Total number of persons under Trial_Male                          3432 non-null   int64 \n",
      " 31  Total number of persons under Trial_Female                        3432 non-null   int64 \n",
      " 32  Total number of persons under Trial_Total                         3432 non-null   int64 \n",
      " 33  Persons against whom cases were compounded by Courts_Male         3432 non-null   int64 \n",
      " 34  Persons against whom cases were compounded by Courts_Female       3432 non-null   int64 \n",
      " 35  Persons against whom cases were compounded by Courts_Total        3432 non-null   int64 \n",
      " 36  Persons against whom cases were withdrawn_Male                    3432 non-null   int64 \n",
      " 37  Persons against whom cases were withdrawn_Female                  3432 non-null   int64 \n",
      " 38  Persons against whom cases were withdrawn_Total                   3432 non-null   int64 \n",
      " 39  Persons in custody during trial stage at Year end_Male            3432 non-null   int64 \n",
      " 40  Persons in custody during trial stage at Year end_Female          3432 non-null   int64 \n",
      " 41  Persons in custody during trial stage at Year end_Total           3432 non-null   int64 \n",
      " 42  Persons on bail during trial stage at Year End_Male               3432 non-null   int64 \n",
      " 43  Persons on bail during trial stage at Year End_Female             3432 non-null   int64 \n",
      " 44  Persons on bail during trial stage at Year End_Total              3432 non-null   int64 \n",
      " 45  Persons whose cases trials were completed during the year_Male    3432 non-null   int64 \n",
      " 46  Persons whose cases trials were completed during the year_Female  3432 non-null   int64 \n",
      " 47  Persons whose cases trials were completed during the year_Total   3432 non-null   int64 \n",
      " 48  Persons convicted_Male                                            3432 non-null   int64 \n",
      " 49  Persons convicted_Female                                          3432 non-null   int64 \n",
      " 50  Persons convicted_Total                                           3432 non-null   int64 \n",
      " 51  Persons acquitted_Male                                            3432 non-null   int64 \n",
      " 52  Persons acquitted_Female                                          3432 non-null   int64 \n",
      " 53  Persons acquitted_Total                                           3432 non-null   int64 \n",
      " 54  Persons Discharged by Court_Male                                  3432 non-null   int64 \n",
      " 55  Persons Discharged by Court_Female                                3432 non-null   int64 \n",
      " 56  Persons Discharged by Court_Total                                 3432 non-null   int64 \n",
      "dtypes: int64(55), object(2)\n",
      "memory usage: 1.5+ MB\n",
      "<class 'pandas.core.frame.DataFrame'>\n",
      "RangeIndex: 1026 entries, 0 to 1025\n",
      "Data columns (total 14 columns):\n",
      " #   Column                                                                                                   Non-Null Count  Dtype \n",
      "---  ------                                                                                                   --------------  ----- \n",
      " 0   STATE/UT                                                                                                 1026 non-null   object\n",
      " 1   CRIME HEAD                                                                                               1025 non-null   object\n",
      " 2   Persons in custody or on bail during the stage of investigation at the beginning of the year             1026 non-null   int64 \n",
      " 3   Persons arrested during the year                                                                         1026 non-null   int64 \n",
      " 4   Persons released or freed by Police or Magistrate before trial for want of evidence or any other reason  1026 non-null   int64 \n",
      " 5   Persons in custody or on bail during the stage of investigation at the end of the year                   1026 non-null   int64 \n",
      " 6   Persons in whose cases charge sheets were laid during the year                                           1026 non-null   int64 \n",
      " 7   Persons under trial at the beginning of the year                                                         1026 non-null   int64 \n",
      " 8   Total number of persons under trial during the year                                                      1026 non-null   int64 \n",
      " 9   Persons against whom cases were compounded or withdrawn                                                  1026 non-null   int64 \n",
      " 10  Persons in custody or on bail during the stage of trial at the end of the year                           1026 non-null   int64 \n",
      " 11  Persons in whose cases trials were completed during the year                                             1026 non-null   int64 \n",
      " 12  Persons convicted                                                                                        1026 non-null   int64 \n",
      " 13  Persons acquitted                                                                                        1026 non-null   int64 \n",
      "dtypes: int64(12), object(2)\n",
      "memory usage: 112.3+ KB\n",
      "<class 'pandas.core.frame.DataFrame'>\n",
      "RangeIndex: 418 entries, 0 to 417\n",
      "Data columns (total 14 columns):\n",
      " #   Column                                                                                                   Non-Null Count  Dtype \n",
      "---  ------                                                                                                   --------------  ----- \n",
      " 0   STATE/UT                                                                                                 418 non-null    object\n",
      " 1   CRIME HEAD                                                                                               418 non-null    object\n",
      " 2   Persons in custody or on bail during the stage of investigation at the beginning of the year             418 non-null    int64 \n",
      " 3   Persons arrested during the year                                                                         418 non-null    int64 \n",
      " 4   Persons released or freed by Police or Magistrate before trial for want of evidence or any other reason  418 non-null    int64 \n",
      " 5   Persons in custody or on bail during the stage of investigation at the end of the year                   418 non-null    int64 \n",
      " 6   Persons in whose cases charge sheets were laid during the year                                           418 non-null    int64 \n",
      " 7   Persons under trial at the beginning of the year                                                         418 non-null    int64 \n",
      " 8   Total number of persons under trial during the year                                                      418 non-null    int64 \n",
      " 9   Persons against whom cases were compounded or withdrawn                                                  418 non-null    int64 \n",
      " 10  Persons in custody or on bail during the stage of trial at the end of the year                           418 non-null    int64 \n",
      " 11  Persons in whose cases trials were completed during the year                                             418 non-null    int64 \n",
      " 12  Persons convicted                                                                                        418 non-null    int64 \n",
      " 13  Persons acquitted                                                                                        418 non-null    int64 \n",
      "dtypes: int64(12), object(2)\n",
      "memory usage: 45.8+ KB\n",
      "<class 'pandas.core.frame.DataFrame'>\n",
      "RangeIndex: 2730 entries, 0 to 2729\n",
      "Data columns (total 57 columns):\n",
      " #   Column                                                            Non-Null Count  Dtype \n",
      "---  ------                                                            --------------  ----- \n",
      " 0   States/UTs                                                        2730 non-null   object\n",
      " 1   Crime Head                                                        2730 non-null   object\n",
      " 2   Year                                                              2730 non-null   int64 \n",
      " 3   Persons in custody during inv stage at beginning of Year_Male     2730 non-null   int64 \n",
      " 4   Persons in custody during inv stage at beginning of Year_Female   2730 non-null   int64 \n",
      " 5   Persons in custody during inv stage at beginning of Year_Total    2730 non-null   int64 \n",
      " 6   Persons on bail during inv stage at beginning of Year_Male        2730 non-null   int64 \n",
      " 7   Persons on bail during inv stage at beginning of Year_Female      2730 non-null   int64 \n",
      " 8   Persons on bail during inv stage at beginning of Year_Total       2730 non-null   int64 \n",
      " 9   Persons arrested during the year_Male                             2730 non-null   int64 \n",
      " 10  Persons arrested during the year_Female                           2730 non-null   int64 \n",
      " 11  Persons arrested during the year_Total                            2730 non-null   int64 \n",
      " 12  Persons released or freed before trial for want of evidence_Male  2730 non-null   int64 \n",
      " 13  Persons released or freed before trial for want of evidence_Fem   2730 non-null   int64 \n",
      " 14  Persons released or freed before trial for want of evidence_Tot   2730 non-null   int64 \n",
      " 15  Persons in custody during inv stage at year end_Male              2730 non-null   int64 \n",
      " 16  Persons in custody during inv stage at year end_Female            2730 non-null   int64 \n",
      " 17  Persons in custody during inv stage at year end_Total             2730 non-null   int64 \n",
      " 18  Persons on Bail during inv stage at year end_Male                 2730 non-null   int64 \n",
      " 19  Persons on Bail during inv stage at Year end_Female               2730 non-null   int64 \n",
      " 20  Persons on Bail during inv stage at year end_Total                2730 non-null   int64 \n",
      " 21  Persons charge sheeted_Male                                       2730 non-null   int64 \n",
      " 22  Persons charge sheeted_Female                                     2730 non-null   int64 \n",
      " 23  Persons charge sheeted_Total                                      2730 non-null   int64 \n",
      " 24  Persons in custody during trial stage at begin of year_Male       2730 non-null   int64 \n",
      " 25  Persons in custody during trial stage at begin of year_Female     2730 non-null   int64 \n",
      " 26  Persons in custody during trial stage at begin of year_Total      2730 non-null   int64 \n",
      " 27  Persons on Bail during trial stage at begin of year_Male          2730 non-null   int64 \n",
      " 28  Persons on Bail during trial stage at begin of year_Female        2730 non-null   int64 \n",
      " 29  Persons on Bail during trial stage at begin of year_Total         2730 non-null   int64 \n",
      " 30  Total number of persons under Trial_Male                          2730 non-null   int64 \n",
      " 31  Total number of persons under Trial_Female                        2730 non-null   int64 \n",
      " 32  Total number of persons under Trial_Total                         2730 non-null   int64 \n",
      " 33  Persons against whom cases were compounded by Courts_Male         2730 non-null   int64 \n",
      " 34  Persons against whom cases were compounded by Courts_Female       2730 non-null   int64 \n",
      " 35  Persons against whom cases were compounded by Courts_Total        2730 non-null   int64 \n",
      " 36  Persons against whom cases were withdrawn_Male                    2730 non-null   int64 \n",
      " 37  Persons against whom cases were withdrawn_Female                  2730 non-null   int64 \n",
      " 38  Persons against whom cases were withdrawn_Total                   2730 non-null   int64 \n",
      " 39  Persons in custody during trial stage at Year end_Male            2730 non-null   int64 \n",
      " 40  Persons in custody during trial stage at Year end_Female          2730 non-null   int64 \n",
      " 41  Persons in custody during trial stage at Year end_Total           2730 non-null   int64 \n",
      " 42  Persons on bail during trial stage at Year End_Male               2730 non-null   int64 \n",
      " 43  Persons on bail during trial stage at Year End_Female             2730 non-null   int64 \n",
      " 44  Persons on bail during trial stage at Year End_Total              2730 non-null   int64 \n",
      " 45  Persons whose cases trials were completed during the year_Male    2730 non-null   int64 \n",
      " 46  Persons whose cases trials were completed during the year_Female  2730 non-null   int64 \n",
      " 47  Persons whose cases trials were completed during the year_Total   2730 non-null   int64 \n",
      " 48  Persons convicted_Male                                            2730 non-null   int64 \n",
      " 49  Persons convicted_Female                                          2730 non-null   int64 \n",
      " 50  Persons convicted_Total                                           2730 non-null   int64 \n",
      " 51  Persons acquitted_Male                                            2730 non-null   int64 \n",
      " 52  Persons acquitted_Female                                          2730 non-null   int64 \n",
      " 53  Persons acquitted_Total                                           2730 non-null   int64 \n",
      " 54  Persons Discharged by Court_Male                                  2730 non-null   int64 \n",
      " 55  Persons Discharged by Court_Female                                2730 non-null   int64 \n",
      " 56  Persons Discharged by Court_Total                                 2730 non-null   int64 \n",
      "dtypes: int64(55), object(2)\n",
      "memory usage: 1.2+ MB\n"
     ]
    }
   ],
   "source": [
    "prsn_arr_cr_ag_ch_12.info()\n",
    "prsn_arr_cr_ag_ch_13.info()\n",
    "prsn_arr_cr_ag_ch_14.info()\n",
    "prsn_arr_IPC_12.info()\n",
    "prsn_arr_IPC_13.info()\n",
    "prsn_arr_IPC_14.info()\n",
    "prsn_arr_SLL_12.info()\n",
    "prsn_arr_SLL_13.info()\n",
    "prsn_arr_SLL_14.info()"
   ]
  },
  {
   "cell_type": "markdown",
   "metadata": {},
   "source": [
    "Clearly some new entries were added in the year 2014 and now in order to predict things in future we are gonna need data from 2012 and 2013 along with data of 2014 so we will count the similar features and combine using them neglecting the new entries in the year 2014 which we can later use for a single year analysis"
   ]
  },
  {
   "cell_type": "code",
   "execution_count": 13,
   "metadata": {},
   "outputs": [
    {
     "data": {
      "text/plain": [
       "0"
      ]
     },
     "execution_count": 13,
     "metadata": {},
     "output_type": "execute_result"
    }
   ],
   "source": [
    "# Common columns need to be filtered out first\n",
    "common_columns_ch = set(prsn_arr_cr_ag_ch_12.columns) & set(prsn_arr_cr_ag_ch_13.columns) & set(prsn_arr_cr_ag_ch_14.columns)\n",
    "len(common_columns_ch)"
   ]
  },
  {
   "cell_type": "markdown",
   "metadata": {},
   "source": [
    "The name of features in the 2014 dataset do not match any of those in 2012 and 2013 hence we will analyse the features in 2014 dataset to try to get them similar to the ones in 2012 and 2013 datasets\n",
    "\n",
    "We found out that the 2014 dataset has male female bifercation that we need to remove"
   ]
  },
  {
   "cell_type": "code",
   "execution_count": 14,
   "metadata": {},
   "outputs": [
    {
     "name": "stdout",
     "output_type": "stream",
     "text": [
      "18\n",
      "18\n",
      "18\n"
     ]
    }
   ],
   "source": [
    "# Selecting the columns ending with \"Total\" or \"Tot\"\n",
    "Selected_columns_ch = [col for col in prsn_arr_cr_ag_ch_14.columns if col.endswith(\"Total\") or col.endswith(\"Tot\")]\n",
    "Selected_columns_IPC = [col for col in prsn_arr_IPC_14.columns if col.endswith(\"Total\") or col.endswith(\"Tot\")]\n",
    "Selected_columns_SLL = [col for col in prsn_arr_SLL_14.columns if col.endswith(\"Total\") or col.endswith(\"Tot\")]\n",
    "print(len(Selected_columns_ch))\n",
    "print(len(Selected_columns_IPC))\n",
    "print(len(Selected_columns_SLL))"
   ]
  },
  {
   "cell_type": "markdown",
   "metadata": {},
   "source": [
    "Finding out the 14 features that are common in 2012 and 2013 datasets"
   ]
  },
  {
   "cell_type": "code",
   "execution_count": 15,
   "metadata": {},
   "outputs": [],
   "source": [
    "updated_columns_ch = [s.rstrip(\"_Total\").rstrip(\"_Tot\") for s in Selected_columns_ch]\n",
    "updated_columns_IPC = [s.rstrip(\"_Total\").rstrip(\"_Tot\") for s in Selected_columns_IPC]\n",
    "updated_columns_SLL = [s.rstrip(\"_Total\").rstrip(\"_Tot\") for s in Selected_columns_SLL]"
   ]
  },
  {
   "cell_type": "code",
   "execution_count": 16,
   "metadata": {},
   "outputs": [],
   "source": [
    "final_ch = list(set(updated_columns_ch) & set(prsn_arr_cr_ag_ch_12.columns))\n",
    "final_IPC = list(set(updated_columns_ch) & set(prsn_arr_IPC_12.columns))\n",
    "final_SLL = list(set(updated_columns_ch) & set(prsn_arr_SLL_12.columns))"
   ]
  },
  {
   "cell_type": "code",
   "execution_count": 17,
   "metadata": {},
   "outputs": [
    {
     "data": {
      "text/plain": [
       "['Persons convicted', 'Persons arrested during the year', 'Persons acquitted']"
      ]
     },
     "execution_count": 17,
     "metadata": {},
     "output_type": "execute_result"
    }
   ],
   "source": [
    "final_ch"
   ]
  },
  {
   "cell_type": "markdown",
   "metadata": {},
   "source": [
    "Due to differences in writing style of the same data we need to do this manually"
   ]
  },
  {
   "cell_type": "code",
   "execution_count": 18,
   "metadata": {},
   "outputs": [],
   "source": [
    "prsn_arr_cr_ag_ch_14[\"Persons in custody or on bail during the stage of investigation at the beginning of the year\"] = prsn_arr_cr_ag_ch_14[\"Persons in custody during inv stage at beginning of Year_Total\"] + prsn_arr_cr_ag_ch_14[\"Persons on bail during inv stage at beginning of Year_Total\"]\n",
    "prsn_arr_cr_ag_ch_14[\"Persons in custody or on bail during the stage of investigation at the end of the year\"] = prsn_arr_cr_ag_ch_14[\"Persons on Bail during inv stage at year end_Total\"] + prsn_arr_cr_ag_ch_14[\"Persons in custody during inv stage at year end_Total\"]\n",
    "prsn_arr_cr_ag_ch_14[\"Persons under trial at the beginning of the year\"] = prsn_arr_cr_ag_ch_14[\"Persons on Bail during trial stage at begin of year_Total\"] + prsn_arr_cr_ag_ch_14[\"Persons in custody during trial stage at begin of year_Total\"]\n",
    "prsn_arr_cr_ag_ch_14[\"Persons in custody or on bail during the stage of trial at the end of the year\"] = prsn_arr_cr_ag_ch_14[\"Persons in custody during trial stage at Year end_Total\"] + prsn_arr_cr_ag_ch_14[\"Persons on bail during trial stage at Year End_Total\"]\n",
    "\n",
    "column_names_to_be_changed = {\"Persons arrested during the year_Total\":\"Persons arrested during the year\",\n",
    "                              \"Persons released or freed before trial for want of evidence_Tot\":\"Persons released or freed by Police or Magistrate before trial for want of evidence or any other reason\",\n",
    "                              \"Persons charge sheeted_Total\":\"Persons in whose cases charge sheets were laid during the year\",\n",
    "                              \"Total number of persons under Trial_Total\":\"Total number of persons under trial during the year\",\n",
    "                              \"Persons against whom cases were compounded by Courts_Total\":\"Persons in whose cases trials were completed during the year\",\n",
    "                              \"Persons convicted_Total\":\"Persons convicted\",\n",
    "                              \"Persons acquitted_Total\":\"Persons acquitted\"\n",
    "                              }\n",
    "prsn_arr_cr_ag_ch_14.rename(columns = column_names_to_be_changed, inplace=True)"
   ]
  },
  {
   "cell_type": "code",
   "execution_count": 19,
   "metadata": {},
   "outputs": [],
   "source": [
    "prsn_arr_IPC_14[\"Persons in custody or on bail during the stage of investigation at the beginning of the year\"] = prsn_arr_IPC_14[\"Persons in custody during inv stage at beginning of Year_Total\"] + prsn_arr_IPC_14[\"Persons on bail during inv stage at beginning of Year_Total\"]\n",
    "prsn_arr_IPC_14[\"Persons in custody or on bail during the stage of investigation at the end of the year\"] = prsn_arr_IPC_14[\"Persons on Bail during inv stage at year end_Total\"] + prsn_arr_IPC_14[\"Persons in custody during inv stage at year end_Total\"]\n",
    "prsn_arr_IPC_14[\"Persons under trial at the beginning of the year\"] = prsn_arr_IPC_14[\"Persons on Bail during trial stage at begin of year_Total\"] + prsn_arr_IPC_14[\"Persons in custody during trial stage at begin of year_Total\"]\n",
    "prsn_arr_IPC_14[\"Persons in custody or on bail during the stage of trial at the end of the year\"] = prsn_arr_IPC_14[\"Persons in custody during trial stage at Year end_Total\"] + prsn_arr_IPC_14[\"Persons on bail during trial stage at Year End_Total\"]\n",
    "\n",
    "column_names_to_be_changed = {\"Persons arrested during the year_Total\":\"Persons arrested during the year\",\n",
    "                              \"Persons released or freed before trial for want of evidence_Tot\":\"Persons released or freed by Police or Magistrate before trial for want of evidence or any other reason\",\n",
    "                              \"Persons charge sheeted_Total\":\"Persons in whose cases charge sheets were laid during the year\",\n",
    "                              \"Total number of persons under Trial_Total\":\"Total number of persons under trial during the year\",\n",
    "                              \"Persons against whom cases were compounded by Courts_Total\":\"Persons in whose cases trials were completed during the year\",\n",
    "                              \"Persons convicted_Total\":\"Persons convicted\",\n",
    "                              \"Persons acquitted_Total\":\"Persons acquitted\"\n",
    "                              }\n",
    "prsn_arr_IPC_14.rename(columns = column_names_to_be_changed, inplace=True)"
   ]
  },
  {
   "cell_type": "code",
   "execution_count": 20,
   "metadata": {},
   "outputs": [],
   "source": [
    "prsn_arr_SLL_14[\"Persons in custody or on bail during the stage of investigation at the beginning of the year\"] = prsn_arr_SLL_14[\"Persons in custody during inv stage at beginning of Year_Total\"] + prsn_arr_SLL_14[\"Persons on bail during inv stage at beginning of Year_Total\"]\n",
    "prsn_arr_SLL_14[\"Persons in custody or on bail during the stage of investigation at the end of the year\"] = prsn_arr_SLL_14[\"Persons on Bail during inv stage at year end_Total\"] + prsn_arr_SLL_14[\"Persons in custody during inv stage at year end_Total\"]\n",
    "prsn_arr_SLL_14[\"Persons under trial at the beginning of the year\"] = prsn_arr_SLL_14[\"Persons on Bail during trial stage at begin of year_Total\"] + prsn_arr_SLL_14[\"Persons in custody during trial stage at begin of year_Total\"]\n",
    "prsn_arr_SLL_14[\"Persons in custody or on bail during the stage of trial at the end of the year\"] = prsn_arr_SLL_14[\"Persons in custody during trial stage at Year end_Total\"] + prsn_arr_SLL_14[\"Persons on bail during trial stage at Year End_Total\"]\n",
    "\n",
    "column_names_to_be_changed = {\"Persons arrested during the year_Total\":\"Persons arrested during the year\",\n",
    "                              \"Persons released or freed before trial for want of evidence_Tot\":\"Persons released or freed by Police or Magistrate before trial for want of evidence or any other reason\",\n",
    "                              \"Persons charge sheeted_Total\":\"Persons in whose cases charge sheets were laid during the year\",\n",
    "                              \"Total number of persons under Trial_Total\":\"Total number of persons under trial during the year\",\n",
    "                              \"Persons against whom cases were compounded by Courts_Total\":\"Persons in whose cases trials were completed during the year\",\n",
    "                              \"Persons convicted_Total\":\"Persons convicted\",\n",
    "                              \"Persons acquitted_Total\":\"Persons acquitted\"\n",
    "                              }\n",
    "prsn_arr_SLL_14.rename(columns = column_names_to_be_changed, inplace=True)"
   ]
  },
  {
   "cell_type": "code",
   "execution_count": 21,
   "metadata": {},
   "outputs": [],
   "source": [
    "prsn_arr_IPC_14.rename(columns = {\"States/UTs\":\"STATE/UT\", \"Crime Head\":\"CRIME HEAD\"}, inplace = True)\n",
    "prsn_arr_SLL_12.rename(columns = {\"States/UTs\":\"STATE/UT\", \"Crime Head\":\"CRIME HEAD\"}, inplace = True)\n",
    "prsn_arr_cr_ag_ch_14.rename(columns = {\"States/UTs\":\"STATE/UT\", \"Crime Head\":\"CRIME HEAD\"}, inplace = True)"
   ]
  },
  {
   "cell_type": "markdown",
   "metadata": {},
   "source": [
    "Running the code for getting common columns again\n"
   ]
  },
  {
   "cell_type": "code",
   "execution_count": 22,
   "metadata": {},
   "outputs": [],
   "source": [
    "final_ch = list(set(prsn_arr_cr_ag_ch_14.columns) & set(prsn_arr_cr_ag_ch_12.columns))\n",
    "final_IPC = list(set(prsn_arr_IPC_14.columns) & set(prsn_arr_IPC_12.columns))\n",
    "final_SLL = list(set(prsn_arr_SLL_14.columns) & set(prsn_arr_SLL_12.columns))"
   ]
  },
  {
   "cell_type": "code",
   "execution_count": 23,
   "metadata": {},
   "outputs": [],
   "source": [
    "prsn_arr_SLL_14 = prsn_arr_SLL_14[final_SLL]\n",
    "prsn_arr_cr_ag_ch_14 = prsn_arr_cr_ag_ch_14[final_ch]\n",
    "prsn_arr_IPC_14 = prsn_arr_IPC_14[final_IPC]"
   ]
  },
  {
   "cell_type": "code",
   "execution_count": 24,
   "metadata": {},
   "outputs": [
    {
     "data": {
      "text/plain": [
       "['Persons convicted',\n",
       " 'Persons in custody or on bail during the stage of trial at the end of the year',\n",
       " 'Persons under trial at the beginning of the year',\n",
       " 'CRIME HEAD',\n",
       " 'Total number of persons under trial during the year',\n",
       " 'Persons in custody or on bail during the stage of investigation at the end of the year',\n",
       " 'Persons acquitted',\n",
       " 'Persons in whose cases charge sheets were laid during the year',\n",
       " 'Persons in whose cases trials were completed during the year',\n",
       " 'Persons in custody or on bail during the stage of investigation at the beginning of the year',\n",
       " 'Persons released or freed by Police or Magistrate before trial for want of evidence or any other reason',\n",
       " 'STATE/UT',\n",
       " 'Persons arrested during the year']"
      ]
     },
     "execution_count": 24,
     "metadata": {},
     "output_type": "execute_result"
    }
   ],
   "source": [
    "final_ch"
   ]
  },
  {
   "cell_type": "code",
   "execution_count": 25,
   "metadata": {},
   "outputs": [
    {
     "data": {
      "text/plain": [
       "['Persons convicted',\n",
       " 'Persons in custody or on bail during the stage of trial at the end of the year',\n",
       " 'Persons under trial at the beginning of the year',\n",
       " 'Total number of persons under trial during the year',\n",
       " 'Persons in custody or on bail during the stage of investigation at the end of the year',\n",
       " 'Persons acquitted',\n",
       " 'Persons in whose cases charge sheets were laid during the year',\n",
       " 'Persons in whose cases trials were completed during the year',\n",
       " 'Persons in custody or on bail during the stage of investigation at the beginning of the year',\n",
       " 'Persons released or freed by Police or Magistrate before trial for want of evidence or any other reason',\n",
       " 'Persons arrested during the year']"
      ]
     },
     "execution_count": 25,
     "metadata": {},
     "output_type": "execute_result"
    }
   ],
   "source": [
    "final_SLL"
   ]
  },
  {
   "cell_type": "code",
   "execution_count": 26,
   "metadata": {},
   "outputs": [],
   "source": [
    "prsn_arr_cr_ag_ch_12[\"Year\"] = 2012\n",
    "prsn_arr_cr_ag_ch_13[\"Year\"] = 2013\n",
    "prsn_arr_cr_ag_ch_14[\"Year\"] = 2014\n",
    "prsn_arr_IPC_12[\"Year\"] = 2012\n",
    "prsn_arr_IPC_13[\"Year\"] = 2013\n",
    "prsn_arr_IPC_14[\"Year\"] = 2014\n",
    "prsn_arr_SLL_12[\"Year\"] = 2012\n",
    "prsn_arr_SLL_13[\"Year\"] = 2013\n",
    "prsn_arr_SLL_14[\"Year\"] = 2014"
   ]
  },
  {
   "cell_type": "code",
   "execution_count": 29,
   "metadata": {},
   "outputs": [],
   "source": [
    "prsn_arr_cr_ag_ch = pd.concat([prsn_arr_cr_ag_ch_12,prsn_arr_cr_ag_ch_13, prsn_arr_cr_ag_ch_14], ignore_index=True)\n",
    "prsn_arr_IPC = pd.concat([prsn_arr_IPC_12, prsn_arr_IPC_13, prsn_arr_IPC_14], ignore_index=True)\n",
    "prsn_arr_SLL = pd.concat([prsn_arr_SLL_12, prsn_arr_SLL_13, prsn_arr_SLL_14], ignore_index=True)"
   ]
  },
  {
   "cell_type": "code",
   "execution_count": 30,
   "metadata": {},
   "outputs": [],
   "source": [
    "prsn_arr_IPC[\"Legal Framework\"] = \"IPC\"\n",
    "prsn_arr_SLL[\"Legal Framework\"] = \"SLL\"\n",
    "prsn_arr_cr_ag_ch[\"Legal Framework\"] = \"Crime against children\""
   ]
  },
  {
   "cell_type": "code",
   "execution_count": 31,
   "metadata": {},
   "outputs": [],
   "source": [
    "Persons_arrested = pd.concat([prsn_arr_cr_ag_ch, prsn_arr_IPC, prsn_arr_SLL], ignore_index=True)"
   ]
  },
  {
   "cell_type": "code",
   "execution_count": 32,
   "metadata": {},
   "outputs": [
    {
     "data": {
      "text/html": [
       "<div>\n",
       "<style scoped>\n",
       "    .dataframe tbody tr th:only-of-type {\n",
       "        vertical-align: middle;\n",
       "    }\n",
       "\n",
       "    .dataframe tbody tr th {\n",
       "        vertical-align: top;\n",
       "    }\n",
       "\n",
       "    .dataframe thead th {\n",
       "        text-align: right;\n",
       "    }\n",
       "</style>\n",
       "<table border=\"1\" class=\"dataframe\">\n",
       "  <thead>\n",
       "    <tr style=\"text-align: right;\">\n",
       "      <th></th>\n",
       "      <th>STATE/UT</th>\n",
       "      <th>CRIME HEAD</th>\n",
       "      <th>Persons in custody or on bail during the stage of investigation at the beginning of the year</th>\n",
       "      <th>Persons arrested during the year</th>\n",
       "      <th>Persons released or freed by Police or Magistrate before trial for want of evidence or any other reason</th>\n",
       "      <th>Persons in custody or on bail during the stage of investigation at the end of the year</th>\n",
       "      <th>Persons in whose cases charge sheets were laid during the year</th>\n",
       "      <th>Persons under trial at the beginning of the year</th>\n",
       "      <th>Total number of persons under trial during the year</th>\n",
       "      <th>Persons against whom cases were compounded or withdrawn</th>\n",
       "      <th>Persons in custody or on bail during the stage of trial at the end of the year</th>\n",
       "      <th>Persons in whose cases trials were completed during the year</th>\n",
       "      <th>Persons convicted</th>\n",
       "      <th>Persons acquitted</th>\n",
       "      <th>Year</th>\n",
       "      <th>Legal Framework</th>\n",
       "    </tr>\n",
       "  </thead>\n",
       "  <tbody>\n",
       "    <tr>\n",
       "      <th>0</th>\n",
       "      <td>ANDHRA PRADESH</td>\n",
       "      <td>INFANTICIDE (SECTION 315 IPC)</td>\n",
       "      <td>0</td>\n",
       "      <td>6</td>\n",
       "      <td>0</td>\n",
       "      <td>5</td>\n",
       "      <td>1</td>\n",
       "      <td>4</td>\n",
       "      <td>5</td>\n",
       "      <td>0.0</td>\n",
       "      <td>5</td>\n",
       "      <td>0</td>\n",
       "      <td>0</td>\n",
       "      <td>0</td>\n",
       "      <td>2012</td>\n",
       "      <td>Crime against children</td>\n",
       "    </tr>\n",
       "    <tr>\n",
       "      <th>1</th>\n",
       "      <td>ARUNACHAL PRADESH</td>\n",
       "      <td>INFANTICIDE (SECTION 315 IPC)</td>\n",
       "      <td>0</td>\n",
       "      <td>0</td>\n",
       "      <td>0</td>\n",
       "      <td>0</td>\n",
       "      <td>0</td>\n",
       "      <td>0</td>\n",
       "      <td>0</td>\n",
       "      <td>0.0</td>\n",
       "      <td>0</td>\n",
       "      <td>0</td>\n",
       "      <td>0</td>\n",
       "      <td>0</td>\n",
       "      <td>2012</td>\n",
       "      <td>Crime against children</td>\n",
       "    </tr>\n",
       "    <tr>\n",
       "      <th>2</th>\n",
       "      <td>ASSAM</td>\n",
       "      <td>INFANTICIDE (SECTION 315 IPC)</td>\n",
       "      <td>0</td>\n",
       "      <td>0</td>\n",
       "      <td>0</td>\n",
       "      <td>0</td>\n",
       "      <td>0</td>\n",
       "      <td>0</td>\n",
       "      <td>0</td>\n",
       "      <td>0.0</td>\n",
       "      <td>0</td>\n",
       "      <td>0</td>\n",
       "      <td>0</td>\n",
       "      <td>0</td>\n",
       "      <td>2012</td>\n",
       "      <td>Crime against children</td>\n",
       "    </tr>\n",
       "    <tr>\n",
       "      <th>3</th>\n",
       "      <td>BIHAR</td>\n",
       "      <td>INFANTICIDE (SECTION 315 IPC)</td>\n",
       "      <td>0</td>\n",
       "      <td>2</td>\n",
       "      <td>0</td>\n",
       "      <td>0</td>\n",
       "      <td>2</td>\n",
       "      <td>7</td>\n",
       "      <td>9</td>\n",
       "      <td>0.0</td>\n",
       "      <td>6</td>\n",
       "      <td>3</td>\n",
       "      <td>1</td>\n",
       "      <td>2</td>\n",
       "      <td>2012</td>\n",
       "      <td>Crime against children</td>\n",
       "    </tr>\n",
       "    <tr>\n",
       "      <th>4</th>\n",
       "      <td>CHHATTISGARH</td>\n",
       "      <td>INFANTICIDE (SECTION 315 IPC)</td>\n",
       "      <td>0</td>\n",
       "      <td>5</td>\n",
       "      <td>0</td>\n",
       "      <td>0</td>\n",
       "      <td>5</td>\n",
       "      <td>16</td>\n",
       "      <td>21</td>\n",
       "      <td>0.0</td>\n",
       "      <td>17</td>\n",
       "      <td>4</td>\n",
       "      <td>2</td>\n",
       "      <td>2</td>\n",
       "      <td>2012</td>\n",
       "      <td>Crime against children</td>\n",
       "    </tr>\n",
       "  </tbody>\n",
       "</table>\n",
       "</div>"
      ],
      "text/plain": [
       "            STATE/UT                     CRIME HEAD  \\\n",
       "0     ANDHRA PRADESH  INFANTICIDE (SECTION 315 IPC)   \n",
       "1  ARUNACHAL PRADESH  INFANTICIDE (SECTION 315 IPC)   \n",
       "2              ASSAM  INFANTICIDE (SECTION 315 IPC)   \n",
       "3              BIHAR  INFANTICIDE (SECTION 315 IPC)   \n",
       "4       CHHATTISGARH  INFANTICIDE (SECTION 315 IPC)   \n",
       "\n",
       "   Persons in custody or on bail during the stage of investigation at the beginning of the year  \\\n",
       "0                                                  0                                              \n",
       "1                                                  0                                              \n",
       "2                                                  0                                              \n",
       "3                                                  0                                              \n",
       "4                                                  0                                              \n",
       "\n",
       "   Persons arrested during the year  \\\n",
       "0                                 6   \n",
       "1                                 0   \n",
       "2                                 0   \n",
       "3                                 2   \n",
       "4                                 5   \n",
       "\n",
       "   Persons released or freed by Police or Magistrate before trial for want of evidence or any other reason  \\\n",
       "0                                                  0                                                         \n",
       "1                                                  0                                                         \n",
       "2                                                  0                                                         \n",
       "3                                                  0                                                         \n",
       "4                                                  0                                                         \n",
       "\n",
       "   Persons in custody or on bail during the stage of investigation at the end of the year  \\\n",
       "0                                                  5                                        \n",
       "1                                                  0                                        \n",
       "2                                                  0                                        \n",
       "3                                                  0                                        \n",
       "4                                                  0                                        \n",
       "\n",
       "   Persons in whose cases charge sheets were laid during the year  \\\n",
       "0                                                  1                \n",
       "1                                                  0                \n",
       "2                                                  0                \n",
       "3                                                  2                \n",
       "4                                                  5                \n",
       "\n",
       "   Persons under trial at the beginning of the year  \\\n",
       "0                                                 4   \n",
       "1                                                 0   \n",
       "2                                                 0   \n",
       "3                                                 7   \n",
       "4                                                16   \n",
       "\n",
       "   Total number of persons under trial during the year  \\\n",
       "0                                                  5     \n",
       "1                                                  0     \n",
       "2                                                  0     \n",
       "3                                                  9     \n",
       "4                                                 21     \n",
       "\n",
       "   Persons against whom cases were compounded or withdrawn  \\\n",
       "0                                                0.0         \n",
       "1                                                0.0         \n",
       "2                                                0.0         \n",
       "3                                                0.0         \n",
       "4                                                0.0         \n",
       "\n",
       "   Persons in custody or on bail during the stage of trial at the end of the year  \\\n",
       "0                                                  5                                \n",
       "1                                                  0                                \n",
       "2                                                  0                                \n",
       "3                                                  6                                \n",
       "4                                                 17                                \n",
       "\n",
       "   Persons in whose cases trials were completed during the year  \\\n",
       "0                                                  0              \n",
       "1                                                  0              \n",
       "2                                                  0              \n",
       "3                                                  3              \n",
       "4                                                  4              \n",
       "\n",
       "   Persons convicted  Persons acquitted  Year         Legal Framework  \n",
       "0                  0                  0  2012  Crime against children  \n",
       "1                  0                  0  2012  Crime against children  \n",
       "2                  0                  0  2012  Crime against children  \n",
       "3                  1                  2  2012  Crime against children  \n",
       "4                  2                  2  2012  Crime against children  "
      ]
     },
     "execution_count": 32,
     "metadata": {},
     "output_type": "execute_result"
    }
   ],
   "source": [
    "Persons_arrested.head()"
   ]
  },
  {
   "cell_type": "code",
   "execution_count": null,
   "metadata": {},
   "outputs": [],
   "source": []
  }
 ],
 "metadata": {
  "kernelspec": {
   "display_name": "Python 3",
   "language": "python",
   "name": "python3"
  },
  "language_info": {
   "codemirror_mode": {
    "name": "ipython",
    "version": 3
   },
   "file_extension": ".py",
   "mimetype": "text/x-python",
   "name": "python",
   "nbconvert_exporter": "python",
   "pygments_lexer": "ipython3",
   "version": "3.10.4"
  }
 },
 "nbformat": 4,
 "nbformat_minor": 2
}
